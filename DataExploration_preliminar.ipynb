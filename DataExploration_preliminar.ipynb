{
  "nbformat": 4,
  "nbformat_minor": 0,
  "metadata": {
    "colab": {
      "name": "DataExploration_preliminar.ipynb",
      "provenance": [],
      "authorship_tag": "ABX9TyOFOVxCUMlyUIb8oghFAiCM",
      "include_colab_link": true
    },
    "kernelspec": {
      "name": "python3",
      "display_name": "Python 3"
    },
    "language_info": {
      "name": "python"
    }
  },
  "cells": [
    {
      "cell_type": "markdown",
      "metadata": {
        "id": "view-in-github",
        "colab_type": "text"
      },
      "source": [
        "<a href=\"https://colab.research.google.com/github/mmendezs2021/Em-prende/blob/main/DataExploration_preliminar.ipynb\" target=\"_parent\"><img src=\"https://colab.research.google.com/assets/colab-badge.svg\" alt=\"Open In Colab\"/></a>"
      ]
    },
    {
      "cell_type": "code",
      "metadata": {
        "id": "S8pvCURUJ2Vt"
      },
      "source": [
        "import pandas as pd\n",
        "import matplotlib.pyplot as plt\n",
        "%matplotlib inline\n",
        "plt.rcParams[\"figure.figsize\"] = (12,12)"
      ],
      "execution_count": 53,
      "outputs": []
    },
    {
      "cell_type": "code",
      "metadata": {
        "id": "XE9sPoCtMkYW"
      },
      "source": [
        "import numpy as np # linear algebra\n",
        "from sklearn.preprocessing import LabelEncoder\n",
        "import re"
      ],
      "execution_count": 54,
      "outputs": []
    },
    {
      "cell_type": "code",
      "metadata": {
        "colab": {
          "base_uri": "https://localhost:8080/"
        },
        "id": "EVJCoqPZJ9Z-",
        "outputId": "93d51fce-174c-4150-ad04-26b0bf2a8b40"
      },
      "source": [
        "!pip install PyDrive"
      ],
      "execution_count": 55,
      "outputs": [
        {
          "output_type": "stream",
          "text": [
            "Requirement already satisfied: PyDrive in /usr/local/lib/python3.7/dist-packages (1.3.1)\n",
            "Requirement already satisfied: oauth2client>=4.0.0 in /usr/local/lib/python3.7/dist-packages (from PyDrive) (4.1.3)\n",
            "Requirement already satisfied: PyYAML>=3.0 in /usr/local/lib/python3.7/dist-packages (from PyDrive) (3.13)\n",
            "Requirement already satisfied: google-api-python-client>=1.2 in /usr/local/lib/python3.7/dist-packages (from PyDrive) (1.12.8)\n",
            "Requirement already satisfied: google-auth-httplib2>=0.0.3 in /usr/local/lib/python3.7/dist-packages (from google-api-python-client>=1.2->PyDrive) (0.0.4)\n",
            "Requirement already satisfied: uritemplate<4dev,>=3.0.0 in /usr/local/lib/python3.7/dist-packages (from google-api-python-client>=1.2->PyDrive) (3.0.1)\n",
            "Requirement already satisfied: six<2dev,>=1.13.0 in /usr/local/lib/python3.7/dist-packages (from google-api-python-client>=1.2->PyDrive) (1.15.0)\n",
            "Requirement already satisfied: httplib2<1dev,>=0.15.0 in /usr/local/lib/python3.7/dist-packages (from google-api-python-client>=1.2->PyDrive) (0.17.4)\n",
            "Requirement already satisfied: google-auth>=1.16.0 in /usr/local/lib/python3.7/dist-packages (from google-api-python-client>=1.2->PyDrive) (1.32.1)\n",
            "Requirement already satisfied: google-api-core<2dev,>=1.21.0 in /usr/local/lib/python3.7/dist-packages (from google-api-python-client>=1.2->PyDrive) (1.26.3)\n",
            "Requirement already satisfied: packaging>=14.3 in /usr/local/lib/python3.7/dist-packages (from google-api-core<2dev,>=1.21.0->google-api-python-client>=1.2->PyDrive) (21.0)\n",
            "Requirement already satisfied: pytz in /usr/local/lib/python3.7/dist-packages (from google-api-core<2dev,>=1.21.0->google-api-python-client>=1.2->PyDrive) (2018.9)\n",
            "Requirement already satisfied: setuptools>=40.3.0 in /usr/local/lib/python3.7/dist-packages (from google-api-core<2dev,>=1.21.0->google-api-python-client>=1.2->PyDrive) (57.2.0)\n",
            "Requirement already satisfied: googleapis-common-protos<2.0dev,>=1.6.0 in /usr/local/lib/python3.7/dist-packages (from google-api-core<2dev,>=1.21.0->google-api-python-client>=1.2->PyDrive) (1.53.0)\n",
            "Requirement already satisfied: requests<3.0.0dev,>=2.18.0 in /usr/local/lib/python3.7/dist-packages (from google-api-core<2dev,>=1.21.0->google-api-python-client>=1.2->PyDrive) (2.23.0)\n",
            "Requirement already satisfied: protobuf>=3.12.0 in /usr/local/lib/python3.7/dist-packages (from google-api-core<2dev,>=1.21.0->google-api-python-client>=1.2->PyDrive) (3.17.3)\n",
            "Requirement already satisfied: cachetools<5.0,>=2.0.0 in /usr/local/lib/python3.7/dist-packages (from google-auth>=1.16.0->google-api-python-client>=1.2->PyDrive) (4.2.2)\n",
            "Requirement already satisfied: rsa<5,>=3.1.4 in /usr/local/lib/python3.7/dist-packages (from google-auth>=1.16.0->google-api-python-client>=1.2->PyDrive) (4.7.2)\n",
            "Requirement already satisfied: pyasn1-modules>=0.2.1 in /usr/local/lib/python3.7/dist-packages (from google-auth>=1.16.0->google-api-python-client>=1.2->PyDrive) (0.2.8)\n",
            "Requirement already satisfied: pyasn1>=0.1.7 in /usr/local/lib/python3.7/dist-packages (from oauth2client>=4.0.0->PyDrive) (0.4.8)\n",
            "Requirement already satisfied: pyparsing>=2.0.2 in /usr/local/lib/python3.7/dist-packages (from packaging>=14.3->google-api-core<2dev,>=1.21.0->google-api-python-client>=1.2->PyDrive) (2.4.7)\n",
            "Requirement already satisfied: chardet<4,>=3.0.2 in /usr/local/lib/python3.7/dist-packages (from requests<3.0.0dev,>=2.18.0->google-api-core<2dev,>=1.21.0->google-api-python-client>=1.2->PyDrive) (3.0.4)\n",
            "Requirement already satisfied: certifi>=2017.4.17 in /usr/local/lib/python3.7/dist-packages (from requests<3.0.0dev,>=2.18.0->google-api-core<2dev,>=1.21.0->google-api-python-client>=1.2->PyDrive) (2021.5.30)\n",
            "Requirement already satisfied: urllib3!=1.25.0,!=1.25.1,<1.26,>=1.21.1 in /usr/local/lib/python3.7/dist-packages (from requests<3.0.0dev,>=2.18.0->google-api-core<2dev,>=1.21.0->google-api-python-client>=1.2->PyDrive) (1.24.3)\n",
            "Requirement already satisfied: idna<3,>=2.5 in /usr/local/lib/python3.7/dist-packages (from requests<3.0.0dev,>=2.18.0->google-api-core<2dev,>=1.21.0->google-api-python-client>=1.2->PyDrive) (2.10)\n"
          ],
          "name": "stdout"
        }
      ]
    },
    {
      "cell_type": "code",
      "metadata": {
        "id": "uu8DS2XZKISc"
      },
      "source": [
        "import os\n",
        "from pydrive.auth import GoogleAuth\n",
        "from pydrive.drive import GoogleDrive\n",
        "from google.colab import auth\n",
        "from oauth2client.client import GoogleCredentials"
      ],
      "execution_count": 56,
      "outputs": []
    },
    {
      "cell_type": "code",
      "metadata": {
        "id": "V4IzUY1qKNex"
      },
      "source": [
        "auth.authenticate_user()"
      ],
      "execution_count": 57,
      "outputs": []
    },
    {
      "cell_type": "code",
      "metadata": {
        "id": "kQcmHyPgKVUh"
      },
      "source": [
        "gauth = GoogleAuth()"
      ],
      "execution_count": 58,
      "outputs": []
    },
    {
      "cell_type": "code",
      "metadata": {
        "id": "LdWEIgnmKY69"
      },
      "source": [
        "gauth.credentials = GoogleCredentials.get_application_default()"
      ],
      "execution_count": 59,
      "outputs": []
    },
    {
      "cell_type": "code",
      "metadata": {
        "id": "8EjlQWmVKcpC"
      },
      "source": [
        "drive = GoogleDrive(gauth)"
      ],
      "execution_count": 60,
      "outputs": []
    },
    {
      "cell_type": "code",
      "metadata": {
        "id": "7gaEiC4nKjFM"
      },
      "source": [
        "download = drive.CreateFile({'id': '177wVVqtlb7ZMLe4TQLkVMqk8E1WDREED'})\n",
        "download.GetContentFile('Set_22Jul_9AM_sin_missingvalues_todonormalizado11am_training.csv')"
      ],
      "execution_count": 61,
      "outputs": []
    },
    {
      "cell_type": "code",
      "metadata": {
        "id": "-wBOkjNEJiTg",
        "colab": {
          "base_uri": "https://localhost:8080/"
        },
        "outputId": "64b8281c-6d05-4986-f66b-25e5db89ec1e"
      },
      "source": [
        "# read dataset\n",
        "#sep=None Python parsing engine will be used and automatically\n",
        "# detect the separator by Python’s builtin sniffer tool\n",
        "train_df = pd.read_csv('./Set_22Jul_9AM_sin_missingvalues_todonormalizado11am_training.csv',sep=None,skiprows=0,dtype={\"pc_1\":np.float64,\n",
        "\"Probabilidad de viabilidad\":str,\"RUC\":str,\n",
        "\"pc_2\":np.float64,\"pc_3\":np.float64,\"pc_4\":np.float64,\"pc_5\":np.float64,\"pc_6\":np.float64,\n",
        "\"pc_7\":np.float64,\"pc_8\":np.float64,\"pc_9\":np.float64,\"pc_10\":np.float64,\"pc_11\":np.float64})# global random state\n",
        "\n",
        "rand_state_ = 42\n",
        "\n",
        "train_df.shape"
      ],
      "execution_count": 62,
      "outputs": [
        {
          "output_type": "stream",
          "text": [
            "/usr/local/lib/python3.7/dist-packages/ipykernel_launcher.py:7: ParserWarning: Falling back to the 'python' engine because the 'c' engine does not support sep=None with delim_whitespace=False; you can avoid this warning by specifying engine='python'.\n",
            "  import sys\n"
          ],
          "name": "stderr"
        },
        {
          "output_type": "execute_result",
          "data": {
            "text/plain": [
              "(28385, 13)"
            ]
          },
          "metadata": {
            "tags": []
          },
          "execution_count": 62
        }
      ]
    },
    {
      "cell_type": "code",
      "metadata": {
        "id": "ETlC_EyHM653"
      },
      "source": [
        "class DataPreparation():\n",
        "    def __init__(self):\n",
        "        pass\n",
        "        \n",
        "        \n",
        "    def preprocess(self, df):\n",
        "        df = self.fill_missing_values(df)\n",
        "        df = self.feature_extraction(df)\n",
        "        df = self.handle_categorical_variables(df)\n",
        "        df = self.dimensionality_reduction(df)\n",
        "        return df"
      ],
      "execution_count": 63,
      "outputs": []
    },
    {
      "cell_type": "code",
      "metadata": {
        "id": "VTscaefOMANR",
        "outputId": "ed4c29fe-a9c8-47a9-99c7-852cc450c9af",
        "colab": {
          "base_uri": "https://localhost:8080/"
        }
      },
      "source": [
        "train_df.describe"
      ],
      "execution_count": 64,
      "outputs": [
        {
          "output_type": "execute_result",
          "data": {
            "text/plain": [
              "<bound method NDFrame.describe of       Probabilidad de viabilidad         RUC  ...     pc_10     pc_11\n",
              "0                           alta   1.7902E12  ... -0.023338  0.487120\n",
              "1                           alta  1.79004E12  ... -0.023338  0.487120\n",
              "2                           alta  1.79051E12  ... -0.023338  0.487120\n",
              "3                           alta  1.39177E12  ... -0.023338  0.487120\n",
              "4                           alta  9.90026E11  ... -0.023338  0.487120\n",
              "...                          ...         ...  ...       ...       ...\n",
              "28380                  Mediabaja  9.92429E11  ...  0.032181 -0.655407\n",
              "28381                  Mediabaja  9.92458E11  ...  0.032181 -0.655407\n",
              "28382                  Mediabaja  9.92487E11  ...  0.032181 -0.655407\n",
              "28383                  Mediabaja  9.92464E11  ...  0.135463 -0.645764\n",
              "28384                  Mediabaja  9.91441E11  ... -0.063184 -0.776117\n",
              "\n",
              "[28385 rows x 13 columns]>"
            ]
          },
          "metadata": {
            "tags": []
          },
          "execution_count": 64
        }
      ]
    },
    {
      "cell_type": "code",
      "metadata": {
        "id": "urp1iuiWOcAi",
        "outputId": "4b8ac752-150f-4892-e1fc-534681fbc8b7",
        "colab": {
          "base_uri": "https://localhost:8080/",
          "height": 418
        }
      },
      "source": [
        "train_df.head(10)"
      ],
      "execution_count": 65,
      "outputs": [
        {
          "output_type": "execute_result",
          "data": {
            "text/html": [
              "<div>\n",
              "<style scoped>\n",
              "    .dataframe tbody tr th:only-of-type {\n",
              "        vertical-align: middle;\n",
              "    }\n",
              "\n",
              "    .dataframe tbody tr th {\n",
              "        vertical-align: top;\n",
              "    }\n",
              "\n",
              "    .dataframe thead th {\n",
              "        text-align: right;\n",
              "    }\n",
              "</style>\n",
              "<table border=\"1\" class=\"dataframe\">\n",
              "  <thead>\n",
              "    <tr style=\"text-align: right;\">\n",
              "      <th></th>\n",
              "      <th>Probabilidad de viabilidad</th>\n",
              "      <th>RUC</th>\n",
              "      <th>pc_1</th>\n",
              "      <th>pc_2</th>\n",
              "      <th>pc_3</th>\n",
              "      <th>pc_4</th>\n",
              "      <th>pc_5</th>\n",
              "      <th>pc_6</th>\n",
              "      <th>pc_7</th>\n",
              "      <th>pc_8</th>\n",
              "      <th>pc_9</th>\n",
              "      <th>pc_10</th>\n",
              "      <th>pc_11</th>\n",
              "    </tr>\n",
              "  </thead>\n",
              "  <tbody>\n",
              "    <tr>\n",
              "      <th>0</th>\n",
              "      <td>alta</td>\n",
              "      <td>1.7902E12</td>\n",
              "      <td>-0.805826</td>\n",
              "      <td>0.101677</td>\n",
              "      <td>0.031321</td>\n",
              "      <td>-0.251002</td>\n",
              "      <td>-0.529943</td>\n",
              "      <td>1.823521</td>\n",
              "      <td>1.035233</td>\n",
              "      <td>0.376116</td>\n",
              "      <td>0.041961</td>\n",
              "      <td>-0.023338</td>\n",
              "      <td>0.48712</td>\n",
              "    </tr>\n",
              "    <tr>\n",
              "      <th>1</th>\n",
              "      <td>alta</td>\n",
              "      <td>1.79004E12</td>\n",
              "      <td>-0.805826</td>\n",
              "      <td>0.101677</td>\n",
              "      <td>0.031321</td>\n",
              "      <td>-0.251002</td>\n",
              "      <td>-0.529943</td>\n",
              "      <td>1.823521</td>\n",
              "      <td>1.035233</td>\n",
              "      <td>0.376116</td>\n",
              "      <td>0.041961</td>\n",
              "      <td>-0.023338</td>\n",
              "      <td>0.48712</td>\n",
              "    </tr>\n",
              "    <tr>\n",
              "      <th>2</th>\n",
              "      <td>alta</td>\n",
              "      <td>1.79051E12</td>\n",
              "      <td>-0.805826</td>\n",
              "      <td>0.101677</td>\n",
              "      <td>0.031321</td>\n",
              "      <td>-0.251002</td>\n",
              "      <td>-0.529943</td>\n",
              "      <td>1.823521</td>\n",
              "      <td>1.035233</td>\n",
              "      <td>0.376116</td>\n",
              "      <td>0.041961</td>\n",
              "      <td>-0.023338</td>\n",
              "      <td>0.48712</td>\n",
              "    </tr>\n",
              "    <tr>\n",
              "      <th>3</th>\n",
              "      <td>alta</td>\n",
              "      <td>1.39177E12</td>\n",
              "      <td>-0.805826</td>\n",
              "      <td>0.101677</td>\n",
              "      <td>0.031321</td>\n",
              "      <td>-0.251002</td>\n",
              "      <td>-0.529943</td>\n",
              "      <td>1.823521</td>\n",
              "      <td>1.035233</td>\n",
              "      <td>0.376116</td>\n",
              "      <td>0.041961</td>\n",
              "      <td>-0.023338</td>\n",
              "      <td>0.48712</td>\n",
              "    </tr>\n",
              "    <tr>\n",
              "      <th>4</th>\n",
              "      <td>alta</td>\n",
              "      <td>9.90026E11</td>\n",
              "      <td>-0.805826</td>\n",
              "      <td>0.101677</td>\n",
              "      <td>0.031321</td>\n",
              "      <td>-0.251002</td>\n",
              "      <td>-0.529943</td>\n",
              "      <td>1.823521</td>\n",
              "      <td>1.035233</td>\n",
              "      <td>0.376116</td>\n",
              "      <td>0.041961</td>\n",
              "      <td>-0.023338</td>\n",
              "      <td>0.48712</td>\n",
              "    </tr>\n",
              "    <tr>\n",
              "      <th>5</th>\n",
              "      <td>alta</td>\n",
              "      <td>9.90006E11</td>\n",
              "      <td>-0.805826</td>\n",
              "      <td>0.101677</td>\n",
              "      <td>0.031321</td>\n",
              "      <td>-0.251002</td>\n",
              "      <td>-0.529943</td>\n",
              "      <td>1.823521</td>\n",
              "      <td>1.035233</td>\n",
              "      <td>0.376116</td>\n",
              "      <td>0.041961</td>\n",
              "      <td>-0.023338</td>\n",
              "      <td>0.48712</td>\n",
              "    </tr>\n",
              "    <tr>\n",
              "      <th>6</th>\n",
              "      <td>alta</td>\n",
              "      <td>9.90009E11</td>\n",
              "      <td>-0.805826</td>\n",
              "      <td>0.101677</td>\n",
              "      <td>0.031321</td>\n",
              "      <td>-0.251002</td>\n",
              "      <td>-0.529943</td>\n",
              "      <td>1.823521</td>\n",
              "      <td>1.035233</td>\n",
              "      <td>0.376116</td>\n",
              "      <td>0.041961</td>\n",
              "      <td>-0.023338</td>\n",
              "      <td>0.48712</td>\n",
              "    </tr>\n",
              "    <tr>\n",
              "      <th>7</th>\n",
              "      <td>alta</td>\n",
              "      <td>9.90009E11</td>\n",
              "      <td>-0.805826</td>\n",
              "      <td>0.101677</td>\n",
              "      <td>0.031321</td>\n",
              "      <td>-0.251002</td>\n",
              "      <td>-0.529943</td>\n",
              "      <td>1.823521</td>\n",
              "      <td>1.035233</td>\n",
              "      <td>0.376116</td>\n",
              "      <td>0.041961</td>\n",
              "      <td>-0.023338</td>\n",
              "      <td>0.48712</td>\n",
              "    </tr>\n",
              "    <tr>\n",
              "      <th>8</th>\n",
              "      <td>alta</td>\n",
              "      <td>9.90009E11</td>\n",
              "      <td>-0.805826</td>\n",
              "      <td>0.101677</td>\n",
              "      <td>0.031321</td>\n",
              "      <td>-0.251002</td>\n",
              "      <td>-0.529943</td>\n",
              "      <td>1.823521</td>\n",
              "      <td>1.035233</td>\n",
              "      <td>0.376116</td>\n",
              "      <td>0.041961</td>\n",
              "      <td>-0.023338</td>\n",
              "      <td>0.48712</td>\n",
              "    </tr>\n",
              "    <tr>\n",
              "      <th>9</th>\n",
              "      <td>alta</td>\n",
              "      <td>1.90154E11</td>\n",
              "      <td>-0.805826</td>\n",
              "      <td>0.101677</td>\n",
              "      <td>0.031321</td>\n",
              "      <td>-0.251002</td>\n",
              "      <td>-0.529943</td>\n",
              "      <td>1.823521</td>\n",
              "      <td>1.035233</td>\n",
              "      <td>0.376116</td>\n",
              "      <td>0.041961</td>\n",
              "      <td>-0.023338</td>\n",
              "      <td>0.48712</td>\n",
              "    </tr>\n",
              "  </tbody>\n",
              "</table>\n",
              "</div>"
            ],
            "text/plain": [
              "  Probabilidad de viabilidad         RUC      pc_1  ...      pc_9     pc_10    pc_11\n",
              "0                       alta   1.7902E12 -0.805826  ...  0.041961 -0.023338  0.48712\n",
              "1                       alta  1.79004E12 -0.805826  ...  0.041961 -0.023338  0.48712\n",
              "2                       alta  1.79051E12 -0.805826  ...  0.041961 -0.023338  0.48712\n",
              "3                       alta  1.39177E12 -0.805826  ...  0.041961 -0.023338  0.48712\n",
              "4                       alta  9.90026E11 -0.805826  ...  0.041961 -0.023338  0.48712\n",
              "5                       alta  9.90006E11 -0.805826  ...  0.041961 -0.023338  0.48712\n",
              "6                       alta  9.90009E11 -0.805826  ...  0.041961 -0.023338  0.48712\n",
              "7                       alta  9.90009E11 -0.805826  ...  0.041961 -0.023338  0.48712\n",
              "8                       alta  9.90009E11 -0.805826  ...  0.041961 -0.023338  0.48712\n",
              "9                       alta  1.90154E11 -0.805826  ...  0.041961 -0.023338  0.48712\n",
              "\n",
              "[10 rows x 13 columns]"
            ]
          },
          "metadata": {
            "tags": []
          },
          "execution_count": 65
        }
      ]
    },
    {
      "cell_type": "code",
      "metadata": {
        "id": "myF_pYGcOeJx",
        "outputId": "68badbd9-51df-4514-d9a3-67b018fe662e",
        "colab": {
          "base_uri": "https://localhost:8080/",
          "height": 444
        }
      },
      "source": [
        "train2_df = (train_df\n",
        "             .rename(columns={\n",
        "                \"Probabilidad de viabilidad\":\"p\",\n",
        "            })\n",
        "            .query(\"pc_1>-1.0\")\n",
        ")\n",
        "train2_df"
      ],
      "execution_count": 74,
      "outputs": [
        {
          "output_type": "execute_result",
          "data": {
            "text/html": [
              "<div>\n",
              "<style scoped>\n",
              "    .dataframe tbody tr th:only-of-type {\n",
              "        vertical-align: middle;\n",
              "    }\n",
              "\n",
              "    .dataframe tbody tr th {\n",
              "        vertical-align: top;\n",
              "    }\n",
              "\n",
              "    .dataframe thead th {\n",
              "        text-align: right;\n",
              "    }\n",
              "</style>\n",
              "<table border=\"1\" class=\"dataframe\">\n",
              "  <thead>\n",
              "    <tr style=\"text-align: right;\">\n",
              "      <th></th>\n",
              "      <th>p</th>\n",
              "      <th>RUC</th>\n",
              "      <th>pc_1</th>\n",
              "      <th>pc_2</th>\n",
              "      <th>pc_3</th>\n",
              "      <th>pc_4</th>\n",
              "      <th>pc_5</th>\n",
              "      <th>pc_6</th>\n",
              "      <th>pc_7</th>\n",
              "      <th>pc_8</th>\n",
              "      <th>pc_9</th>\n",
              "      <th>pc_10</th>\n",
              "      <th>pc_11</th>\n",
              "    </tr>\n",
              "  </thead>\n",
              "  <tbody>\n",
              "    <tr>\n",
              "      <th>0</th>\n",
              "      <td>alta</td>\n",
              "      <td>1.7902E12</td>\n",
              "      <td>-0.805826</td>\n",
              "      <td>0.101677</td>\n",
              "      <td>0.031321</td>\n",
              "      <td>-0.251002</td>\n",
              "      <td>-0.529943</td>\n",
              "      <td>1.823521</td>\n",
              "      <td>1.035233</td>\n",
              "      <td>0.376116</td>\n",
              "      <td>0.041961</td>\n",
              "      <td>-0.023338</td>\n",
              "      <td>0.487120</td>\n",
              "    </tr>\n",
              "    <tr>\n",
              "      <th>1</th>\n",
              "      <td>alta</td>\n",
              "      <td>1.79004E12</td>\n",
              "      <td>-0.805826</td>\n",
              "      <td>0.101677</td>\n",
              "      <td>0.031321</td>\n",
              "      <td>-0.251002</td>\n",
              "      <td>-0.529943</td>\n",
              "      <td>1.823521</td>\n",
              "      <td>1.035233</td>\n",
              "      <td>0.376116</td>\n",
              "      <td>0.041961</td>\n",
              "      <td>-0.023338</td>\n",
              "      <td>0.487120</td>\n",
              "    </tr>\n",
              "    <tr>\n",
              "      <th>2</th>\n",
              "      <td>alta</td>\n",
              "      <td>1.79051E12</td>\n",
              "      <td>-0.805826</td>\n",
              "      <td>0.101677</td>\n",
              "      <td>0.031321</td>\n",
              "      <td>-0.251002</td>\n",
              "      <td>-0.529943</td>\n",
              "      <td>1.823521</td>\n",
              "      <td>1.035233</td>\n",
              "      <td>0.376116</td>\n",
              "      <td>0.041961</td>\n",
              "      <td>-0.023338</td>\n",
              "      <td>0.487120</td>\n",
              "    </tr>\n",
              "    <tr>\n",
              "      <th>3</th>\n",
              "      <td>alta</td>\n",
              "      <td>1.39177E12</td>\n",
              "      <td>-0.805826</td>\n",
              "      <td>0.101677</td>\n",
              "      <td>0.031321</td>\n",
              "      <td>-0.251002</td>\n",
              "      <td>-0.529943</td>\n",
              "      <td>1.823521</td>\n",
              "      <td>1.035233</td>\n",
              "      <td>0.376116</td>\n",
              "      <td>0.041961</td>\n",
              "      <td>-0.023338</td>\n",
              "      <td>0.487120</td>\n",
              "    </tr>\n",
              "    <tr>\n",
              "      <th>4</th>\n",
              "      <td>alta</td>\n",
              "      <td>9.90026E11</td>\n",
              "      <td>-0.805826</td>\n",
              "      <td>0.101677</td>\n",
              "      <td>0.031321</td>\n",
              "      <td>-0.251002</td>\n",
              "      <td>-0.529943</td>\n",
              "      <td>1.823521</td>\n",
              "      <td>1.035233</td>\n",
              "      <td>0.376116</td>\n",
              "      <td>0.041961</td>\n",
              "      <td>-0.023338</td>\n",
              "      <td>0.487120</td>\n",
              "    </tr>\n",
              "    <tr>\n",
              "      <th>...</th>\n",
              "      <td>...</td>\n",
              "      <td>...</td>\n",
              "      <td>...</td>\n",
              "      <td>...</td>\n",
              "      <td>...</td>\n",
              "      <td>...</td>\n",
              "      <td>...</td>\n",
              "      <td>...</td>\n",
              "      <td>...</td>\n",
              "      <td>...</td>\n",
              "      <td>...</td>\n",
              "      <td>...</td>\n",
              "      <td>...</td>\n",
              "    </tr>\n",
              "    <tr>\n",
              "      <th>28380</th>\n",
              "      <td>Mediabaja</td>\n",
              "      <td>9.92429E11</td>\n",
              "      <td>-0.813247</td>\n",
              "      <td>0.311413</td>\n",
              "      <td>0.050243</td>\n",
              "      <td>0.094364</td>\n",
              "      <td>0.210242</td>\n",
              "      <td>-0.839493</td>\n",
              "      <td>-0.264401</td>\n",
              "      <td>-0.163348</td>\n",
              "      <td>-0.005897</td>\n",
              "      <td>0.032181</td>\n",
              "      <td>-0.655407</td>\n",
              "    </tr>\n",
              "    <tr>\n",
              "      <th>28381</th>\n",
              "      <td>Mediabaja</td>\n",
              "      <td>9.92458E11</td>\n",
              "      <td>-0.813247</td>\n",
              "      <td>0.311413</td>\n",
              "      <td>0.050243</td>\n",
              "      <td>0.094364</td>\n",
              "      <td>0.210242</td>\n",
              "      <td>-0.839493</td>\n",
              "      <td>-0.264401</td>\n",
              "      <td>-0.163348</td>\n",
              "      <td>-0.005897</td>\n",
              "      <td>0.032181</td>\n",
              "      <td>-0.655407</td>\n",
              "    </tr>\n",
              "    <tr>\n",
              "      <th>28382</th>\n",
              "      <td>Mediabaja</td>\n",
              "      <td>9.92487E11</td>\n",
              "      <td>-0.813247</td>\n",
              "      <td>0.311413</td>\n",
              "      <td>0.050243</td>\n",
              "      <td>0.094364</td>\n",
              "      <td>0.210242</td>\n",
              "      <td>-0.839493</td>\n",
              "      <td>-0.264401</td>\n",
              "      <td>-0.163348</td>\n",
              "      <td>-0.005897</td>\n",
              "      <td>0.032181</td>\n",
              "      <td>-0.655407</td>\n",
              "    </tr>\n",
              "    <tr>\n",
              "      <th>28383</th>\n",
              "      <td>Mediabaja</td>\n",
              "      <td>9.92464E11</td>\n",
              "      <td>-0.577915</td>\n",
              "      <td>0.114637</td>\n",
              "      <td>-0.138157</td>\n",
              "      <td>-0.003587</td>\n",
              "      <td>0.214480</td>\n",
              "      <td>0.049254</td>\n",
              "      <td>-0.091969</td>\n",
              "      <td>-0.019879</td>\n",
              "      <td>0.045695</td>\n",
              "      <td>0.135463</td>\n",
              "      <td>-0.645764</td>\n",
              "    </tr>\n",
              "    <tr>\n",
              "      <th>28384</th>\n",
              "      <td>Mediabaja</td>\n",
              "      <td>9.91441E11</td>\n",
              "      <td>-0.607033</td>\n",
              "      <td>0.050559</td>\n",
              "      <td>-0.051900</td>\n",
              "      <td>0.295891</td>\n",
              "      <td>0.365783</td>\n",
              "      <td>0.180115</td>\n",
              "      <td>-0.341240</td>\n",
              "      <td>0.161405</td>\n",
              "      <td>-0.016848</td>\n",
              "      <td>-0.063184</td>\n",
              "      <td>-0.776117</td>\n",
              "    </tr>\n",
              "  </tbody>\n",
              "</table>\n",
              "<p>28385 rows × 13 columns</p>\n",
              "</div>"
            ],
            "text/plain": [
              "               p         RUC      pc_1  ...      pc_9     pc_10     pc_11\n",
              "0           alta   1.7902E12 -0.805826  ...  0.041961 -0.023338  0.487120\n",
              "1           alta  1.79004E12 -0.805826  ...  0.041961 -0.023338  0.487120\n",
              "2           alta  1.79051E12 -0.805826  ...  0.041961 -0.023338  0.487120\n",
              "3           alta  1.39177E12 -0.805826  ...  0.041961 -0.023338  0.487120\n",
              "4           alta  9.90026E11 -0.805826  ...  0.041961 -0.023338  0.487120\n",
              "...          ...         ...       ...  ...       ...       ...       ...\n",
              "28380  Mediabaja  9.92429E11 -0.813247  ... -0.005897  0.032181 -0.655407\n",
              "28381  Mediabaja  9.92458E11 -0.813247  ... -0.005897  0.032181 -0.655407\n",
              "28382  Mediabaja  9.92487E11 -0.813247  ... -0.005897  0.032181 -0.655407\n",
              "28383  Mediabaja  9.92464E11 -0.577915  ...  0.045695  0.135463 -0.645764\n",
              "28384  Mediabaja  9.91441E11 -0.607033  ... -0.016848 -0.063184 -0.776117\n",
              "\n",
              "[28385 rows x 13 columns]"
            ]
          },
          "metadata": {
            "tags": []
          },
          "execution_count": 74
        }
      ]
    },
    {
      "cell_type": "code",
      "metadata": {
        "id": "wQ2V7U_pXIuq"
      },
      "source": [
        "train3_df=pd.DataFrame(train2_df,columns=['pc_1','pc_2'],dtype=float)\n",
        "#print train3_df"
      ],
      "execution_count": 79,
      "outputs": []
    },
    {
      "cell_type": "code",
      "metadata": {
        "id": "UQ7cw9tAQJIY",
        "outputId": "38e7152d-aaf7-444b-b0a5-e2b632a26ff1",
        "colab": {
          "base_uri": "https://localhost:8080/"
        }
      },
      "source": [
        "train3_df.describe"
      ],
      "execution_count": 80,
      "outputs": [
        {
          "output_type": "execute_result",
          "data": {
            "text/plain": [
              "<bound method NDFrame.describe of            pc_1      pc_2\n",
              "0     -0.805826  0.101677\n",
              "1     -0.805826  0.101677\n",
              "2     -0.805826  0.101677\n",
              "3     -0.805826  0.101677\n",
              "4     -0.805826  0.101677\n",
              "...         ...       ...\n",
              "28380 -0.813247  0.311413\n",
              "28381 -0.813247  0.311413\n",
              "28382 -0.813247  0.311413\n",
              "28383 -0.577915  0.114637\n",
              "28384 -0.607033  0.050559\n",
              "\n",
              "[28385 rows x 2 columns]>"
            ]
          },
          "metadata": {
            "tags": []
          },
          "execution_count": 80
        }
      ]
    },
    {
      "cell_type": "code",
      "metadata": {
        "id": "6-C6I7SVU9yG",
        "outputId": "7a3f3df1-8c29-4b30-8e32-18b1532bc5ba",
        "colab": {
          "base_uri": "https://localhost:8080/"
        }
      },
      "source": [
        "train2_df.columns"
      ],
      "execution_count": 68,
      "outputs": [
        {
          "output_type": "execute_result",
          "data": {
            "text/plain": [
              "Index(['p', 'RUC', 'pc_1', 'pc_2', 'pc_3', 'pc_4', 'pc_5', 'pc_6', 'pc_7',\n",
              "       'pc_8', 'pc_9', 'pc_10', 'pc_11'],\n",
              "      dtype='object')"
            ]
          },
          "metadata": {
            "tags": []
          },
          "execution_count": 68
        }
      ]
    },
    {
      "cell_type": "code",
      "metadata": {
        "id": "3CIRq91eVKsE",
        "outputId": "12a40e3c-c365-4314-a457-399beb979fa2",
        "colab": {
          "base_uri": "https://localhost:8080/"
        }
      },
      "source": [
        "train2_df.count"
      ],
      "execution_count": 69,
      "outputs": [
        {
          "output_type": "execute_result",
          "data": {
            "text/plain": [
              "<bound method DataFrame.count of                p         RUC      pc_1  ...      pc_9     pc_10     pc_11\n",
              "0           alta   1.7902E12 -0.805826  ...  0.041961 -0.023338  0.487120\n",
              "1           alta  1.79004E12 -0.805826  ...  0.041961 -0.023338  0.487120\n",
              "2           alta  1.79051E12 -0.805826  ...  0.041961 -0.023338  0.487120\n",
              "3           alta  1.39177E12 -0.805826  ...  0.041961 -0.023338  0.487120\n",
              "4           alta  9.90026E11 -0.805826  ...  0.041961 -0.023338  0.487120\n",
              "...          ...         ...       ...  ...       ...       ...       ...\n",
              "28380  Mediabaja  9.92429E11 -0.813247  ... -0.005897  0.032181 -0.655407\n",
              "28381  Mediabaja  9.92458E11 -0.813247  ... -0.005897  0.032181 -0.655407\n",
              "28382  Mediabaja  9.92487E11 -0.813247  ... -0.005897  0.032181 -0.655407\n",
              "28383  Mediabaja  9.92464E11 -0.577915  ...  0.045695  0.135463 -0.645764\n",
              "28384  Mediabaja  9.91441E11 -0.607033  ... -0.016848 -0.063184 -0.776117\n",
              "\n",
              "[28385 rows x 13 columns]>"
            ]
          },
          "metadata": {
            "tags": []
          },
          "execution_count": 69
        }
      ]
    },
    {
      "cell_type": "code",
      "metadata": {
        "id": "FVguUm-jVQox",
        "outputId": "041de3b4-c5b9-4108-a3e1-48252488aee8",
        "colab": {
          "base_uri": "https://localhost:8080/"
        }
      },
      "source": [
        "train2_df.dtypes"
      ],
      "execution_count": 71,
      "outputs": [
        {
          "output_type": "execute_result",
          "data": {
            "text/plain": [
              "p         object\n",
              "RUC       object\n",
              "pc_1     float64\n",
              "pc_2     float64\n",
              "pc_3     float64\n",
              "pc_4     float64\n",
              "pc_5     float64\n",
              "pc_6     float64\n",
              "pc_7     float64\n",
              "pc_8     float64\n",
              "pc_9     float64\n",
              "pc_10    float64\n",
              "pc_11    float64\n",
              "dtype: object"
            ]
          },
          "metadata": {
            "tags": []
          },
          "execution_count": 71
        }
      ]
    },
    {
      "cell_type": "markdown",
      "metadata": {
        "id": "2vCMN2uEQAj4"
      },
      "source": [
        "Finalmente, guardamos a csv el dataset limpio"
      ]
    },
    {
      "cell_type": "code",
      "metadata": {
        "id": "sFMDAAekQBsr"
      },
      "source": [
        "train3_df.to_csv(\"./training.csv\", index=False)"
      ],
      "execution_count": 85,
      "outputs": []
    }
  ]
}