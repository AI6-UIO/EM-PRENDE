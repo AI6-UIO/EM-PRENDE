{
  "nbformat": 4,
  "nbformat_minor": 0,
  "metadata": {
    "colab": {
      "name": "Em-prende.ipynb",
      "provenance": [],
      "collapsed_sections": [],
      "authorship_tag": "ABX9TyOssYMsq6FMLpIg4AelM9wr",
      "include_colab_link": true
    },
    "kernelspec": {
      "name": "python3",
      "display_name": "Python 3"
    },
    "language_info": {
      "name": "python"
    }
  },
  "cells": [
    {
      "cell_type": "markdown",
      "metadata": {
        "id": "view-in-github",
        "colab_type": "text"
      },
      "source": [
        "<a href=\"https://colab.research.google.com/github/mmendezs2021/Em-prende/blob/main/Em_prende.ipynb\" target=\"_parent\"><img src=\"https://colab.research.google.com/assets/colab-badge.svg\" alt=\"Open In Colab\"/></a>"
      ]
    },
    {
      "cell_type": "code",
      "metadata": {
        "id": "9T-9OTIQAfIz"
      },
      "source": [
        "import sys\n",
        "sys.path.append('../src')"
      ],
      "execution_count": 5,
      "outputs": []
    },
    {
      "cell_type": "code",
      "metadata": {
        "id": "vX3E0ttdEhop"
      },
      "source": [
        "from setuptools import setup, find_packages"
      ],
      "execution_count": 10,
      "outputs": []
    },
    {
      "cell_type": "code",
      "metadata": {
        "colab": {
          "base_uri": "https://localhost:8080/"
        },
        "id": "GjEblYTMEzM3",
        "outputId": "aa086012-4518-4e07-b048-4aa53bc768f5"
      },
      "source": [
        "!pip3 install virtualenv"
      ],
      "execution_count": 14,
      "outputs": [
        {
          "output_type": "stream",
          "text": [
            "Requirement already satisfied: virtualenv in /usr/local/lib/python3.7/dist-packages (20.6.0)\n",
            "Requirement already satisfied: distlib<1,>=0.3.1 in /usr/local/lib/python3.7/dist-packages (from virtualenv) (0.3.2)\n",
            "Requirement already satisfied: importlib-metadata>=0.12 in /usr/local/lib/python3.7/dist-packages (from virtualenv) (4.6.1)\n",
            "Requirement already satisfied: six<2,>=1.9.0 in /usr/local/lib/python3.7/dist-packages (from virtualenv) (1.15.0)\n",
            "Requirement already satisfied: filelock<4,>=3.0.0 in /usr/local/lib/python3.7/dist-packages (from virtualenv) (3.0.12)\n",
            "Requirement already satisfied: backports.entry-points-selectable>=1.0.4 in /usr/local/lib/python3.7/dist-packages (from virtualenv) (1.1.0)\n",
            "Requirement already satisfied: platformdirs<3,>=2 in /usr/local/lib/python3.7/dist-packages (from virtualenv) (2.0.2)\n",
            "Requirement already satisfied: typing-extensions>=3.6.4 in /usr/local/lib/python3.7/dist-packages (from importlib-metadata>=0.12->virtualenv) (3.7.4.3)\n",
            "Requirement already satisfied: zipp>=0.5 in /usr/local/lib/python3.7/dist-packages (from importlib-metadata>=0.12->virtualenv) (3.5.0)\n"
          ],
          "name": "stdout"
        }
      ]
    },
    {
      "cell_type": "code",
      "metadata": {
        "colab": {
          "base_uri": "https://localhost:8080/"
        },
        "id": "FihLHZFJHRe1",
        "outputId": "584cd42f-1fa6-49ab-e1f4-7f0150ab5fda"
      },
      "source": [
        "!virtualenv em-prende-ml-solution"
      ],
      "execution_count": 15,
      "outputs": [
        {
          "output_type": "stream",
          "text": [
            "created virtual environment CPython3.7.11.final.0-64 in 686ms\n",
            "  creator CPython3Posix(dest=/content/em-prende-ml-solution, clear=False, no_vcs_ignore=False, global=False)\n",
            "  seeder FromAppData(download=False, pip=bundle, setuptools=bundle, wheel=bundle, via=copy, app_data_dir=/root/.local/share/virtualenv)\n",
            "    added seed packages: pip==21.1.3, setuptools==57.1.0, wheel==0.36.2\n",
            "  activators BashActivator,CShellActivator,FishActivator,PowerShellActivator,PythonActivator,XonshActivator\n"
          ],
          "name": "stdout"
        }
      ]
    },
    {
      "cell_type": "markdown",
      "metadata": {
        "id": "NsWQHm9qLbFC"
      },
      "source": [
        "Now, lets install some libraries in our virtual environment \"em-prende-ml-solution\""
      ]
    },
    {
      "cell_type": "code",
      "metadata": {
        "colab": {
          "base_uri": "https://localhost:8080/"
        },
        "id": "TaG3nS8W7fBi",
        "outputId": "d7b826ec-a02c-4a0a-b74e-00a064ffacaf"
      },
      "source": [
        "!source /content/em-prende-ml-solution/bin/activate; pip install dill Flask Jinja2 numpy pandas scikit-learn scipy sklearn xgboost"
      ],
      "execution_count": 17,
      "outputs": [
        {
          "output_type": "stream",
          "text": [
            "Collecting dill\n",
            "  Downloading dill-0.3.4-py2.py3-none-any.whl (86 kB)\n",
            "\u001b[K     |████████████████████████████████| 86 kB 3.0 MB/s \n",
            "\u001b[?25hCollecting Flask\n",
            "  Downloading Flask-2.0.1-py3-none-any.whl (94 kB)\n",
            "\u001b[K     |████████████████████████████████| 94 kB 2.5 MB/s \n",
            "\u001b[?25hCollecting Jinja2\n",
            "  Downloading Jinja2-3.0.1-py3-none-any.whl (133 kB)\n",
            "\u001b[K     |████████████████████████████████| 133 kB 9.7 MB/s \n",
            "\u001b[?25hCollecting numpy\n",
            "  Downloading numpy-1.21.1-cp37-cp37m-manylinux_2_12_x86_64.manylinux2010_x86_64.whl (15.7 MB)\n",
            "\u001b[K     |████████████████████████████████| 15.7 MB 74 kB/s \n",
            "\u001b[?25hCollecting pandas\n",
            "  Downloading pandas-1.3.0-cp37-cp37m-manylinux_2_5_x86_64.manylinux1_x86_64.whl (10.8 MB)\n",
            "\u001b[K     |████████████████████████████████| 10.8 MB 47.2 MB/s \n",
            "\u001b[?25hCollecting scikit-learn\n",
            "  Downloading scikit_learn-0.24.2-cp37-cp37m-manylinux2010_x86_64.whl (22.3 MB)\n",
            "\u001b[K     |████████████████████████████████| 22.3 MB 62.3 MB/s \n",
            "\u001b[?25hCollecting scipy\n",
            "  Downloading scipy-1.7.0-cp37-cp37m-manylinux_2_5_x86_64.manylinux1_x86_64.whl (28.5 MB)\n",
            "\u001b[K     |████████████████████████████████| 28.5 MB 34 kB/s \n",
            "\u001b[?25hCollecting sklearn\n",
            "  Downloading sklearn-0.0.tar.gz (1.1 kB)\n",
            "Collecting xgboost\n",
            "  Downloading xgboost-1.4.2-py3-none-manylinux2010_x86_64.whl (166.7 MB)\n",
            "\u001b[K     |████████████████████████████████| 166.7 MB 17 kB/s \n",
            "\u001b[?25hCollecting Werkzeug>=2.0\n",
            "  Downloading Werkzeug-2.0.1-py3-none-any.whl (288 kB)\n",
            "\u001b[K     |████████████████████████████████| 288 kB 61.7 MB/s \n",
            "\u001b[?25hCollecting click>=7.1.2\n",
            "  Downloading click-8.0.1-py3-none-any.whl (97 kB)\n",
            "\u001b[K     |████████████████████████████████| 97 kB 6.1 MB/s \n",
            "\u001b[?25hCollecting itsdangerous>=2.0\n",
            "  Downloading itsdangerous-2.0.1-py3-none-any.whl (18 kB)\n",
            "Collecting MarkupSafe>=2.0\n",
            "  Downloading MarkupSafe-2.0.1-cp37-cp37m-manylinux2010_x86_64.whl (31 kB)\n",
            "Collecting importlib-metadata\n",
            "  Downloading importlib_metadata-4.6.1-py3-none-any.whl (17 kB)\n",
            "Collecting pytz>=2017.3\n",
            "  Downloading pytz-2021.1-py2.py3-none-any.whl (510 kB)\n",
            "\u001b[K     |████████████████████████████████| 510 kB 71.8 MB/s \n",
            "\u001b[?25hCollecting python-dateutil>=2.7.3\n",
            "  Downloading python_dateutil-2.8.2-py2.py3-none-any.whl (247 kB)\n",
            "\u001b[K     |████████████████████████████████| 247 kB 76.0 MB/s \n",
            "\u001b[?25hCollecting six>=1.5\n",
            "  Downloading six-1.16.0-py2.py3-none-any.whl (11 kB)\n",
            "Collecting threadpoolctl>=2.0.0\n",
            "  Downloading threadpoolctl-2.2.0-py3-none-any.whl (12 kB)\n",
            "Collecting joblib>=0.11\n",
            "  Downloading joblib-1.0.1-py3-none-any.whl (303 kB)\n",
            "\u001b[K     |████████████████████████████████| 303 kB 73.2 MB/s \n",
            "\u001b[?25hCollecting typing-extensions>=3.6.4\n",
            "  Downloading typing_extensions-3.10.0.0-py3-none-any.whl (26 kB)\n",
            "Collecting zipp>=0.5\n",
            "  Downloading zipp-3.5.0-py3-none-any.whl (5.7 kB)\n",
            "Building wheels for collected packages: sklearn\n",
            "  Building wheel for sklearn (setup.py) ... \u001b[?25l\u001b[?25hdone\n",
            "  Created wheel for sklearn: filename=sklearn-0.0-py2.py3-none-any.whl size=1309 sha256=4ad422e92cde32949d1436cb27b3155af5a1aaf40fa5f4241d46839e71c151e6\n",
            "  Stored in directory: /root/.cache/pip/wheels/46/ef/c3/157e41f5ee1372d1be90b09f74f82b10e391eaacca8f22d33e\n",
            "Successfully built sklearn\n",
            "Installing collected packages: zipp, typing-extensions, numpy, threadpoolctl, six, scipy, MarkupSafe, joblib, importlib-metadata, Werkzeug, scikit-learn, pytz, python-dateutil, Jinja2, itsdangerous, click, xgboost, sklearn, pandas, Flask, dill\n",
            "Successfully installed Flask-2.0.1 Jinja2-3.0.1 MarkupSafe-2.0.1 Werkzeug-2.0.1 click-8.0.1 dill-0.3.4 importlib-metadata-4.6.1 itsdangerous-2.0.1 joblib-1.0.1 numpy-1.21.1 pandas-1.3.0 python-dateutil-2.8.2 pytz-2021.1 scikit-learn-0.24.2 scipy-1.7.0 six-1.16.0 sklearn-0.0 threadpoolctl-2.2.0 typing-extensions-3.10.0.0 xgboost-1.4.2 zipp-3.5.0\n"
          ],
          "name": "stdout"
        }
      ]
    },
    {
      "cell_type": "markdown",
      "metadata": {
        "id": "LXTySrJaLNPC"
      },
      "source": [
        "The following line shows all packages installed in our virtual environment"
      ]
    },
    {
      "cell_type": "code",
      "metadata": {
        "colab": {
          "base_uri": "https://localhost:8080/"
        },
        "id": "OTse3UDnLHcu",
        "outputId": "c22f8dd6-77f8-4612-e636-1ea6db9aedd3"
      },
      "source": [
        "!source /content/theanoEnv/bin/activate; pip3 list "
      ],
      "execution_count": 19,
      "outputs": [
        {
          "output_type": "stream",
          "text": [
            "/bin/bash: /content/theanoEnv/bin/activate: No such file or directory\n",
            "Package                           Version\n",
            "--------------------------------- -------------------\n",
            "absl-py                           0.12.0\n",
            "alabaster                         0.7.12\n",
            "albumentations                    0.1.12\n",
            "altair                            4.1.0\n",
            "appdirs                           1.4.4\n",
            "argon2-cffi                       20.1.0\n",
            "arviz                             0.11.2\n",
            "astor                             0.8.1\n",
            "astropy                           4.2.1\n",
            "astunparse                        1.6.3\n",
            "async-generator                   1.10\n",
            "atari-py                          0.2.9\n",
            "atomicwrites                      1.4.0\n",
            "attrs                             21.2.0\n",
            "audioread                         2.1.9\n",
            "autograd                          1.3\n",
            "Babel                             2.9.1\n",
            "backcall                          0.2.0\n",
            "backports.entry-points-selectable 1.1.0\n",
            "beautifulsoup4                    4.6.3\n",
            "bleach                            3.3.0\n",
            "blis                              0.4.1\n",
            "bokeh                             2.3.3\n",
            "Bottleneck                        1.3.2\n",
            "branca                            0.4.2\n",
            "bs4                               0.0.1\n",
            "CacheControl                      0.12.6\n",
            "cached-property                   1.5.2\n",
            "cachetools                        4.2.2\n",
            "catalogue                         1.0.0\n",
            "certifi                           2021.5.30\n",
            "cffi                              1.14.6\n",
            "cftime                            1.5.0\n",
            "chardet                           3.0.4\n",
            "charset-normalizer                2.0.2\n",
            "click                             7.1.2\n",
            "cloudpickle                       1.3.0\n",
            "cmake                             3.12.0\n",
            "cmdstanpy                         0.9.5\n",
            "colorcet                          2.0.6\n",
            "colorlover                        0.3.0\n",
            "community                         1.0.0b1\n",
            "contextlib2                       0.5.5\n",
            "convertdate                       2.3.2\n",
            "coverage                          3.7.1\n",
            "coveralls                         0.5\n",
            "crcmod                            1.7\n",
            "cufflinks                         0.17.3\n",
            "cvxopt                            1.2.6\n",
            "cvxpy                             1.0.31\n",
            "cycler                            0.10.0\n",
            "cymem                             2.0.5\n",
            "Cython                            0.29.23\n",
            "daft                              0.0.4\n",
            "dask                              2.12.0\n",
            "datascience                       0.10.6\n",
            "debugpy                           1.0.0\n",
            "decorator                         4.4.2\n",
            "defusedxml                        0.7.1\n",
            "descartes                         1.1.0\n",
            "dill                              0.3.4\n",
            "distlib                           0.3.2\n",
            "distributed                       1.25.3\n",
            "dlib                              19.18.0\n",
            "dm-tree                           0.1.6\n",
            "docopt                            0.6.2\n",
            "docutils                          0.17.1\n",
            "dopamine-rl                       1.0.5\n",
            "earthengine-api                   0.1.272\n",
            "easydict                          1.9\n",
            "ecos                              2.0.7.post1\n",
            "editdistance                      0.5.3\n",
            "en-core-web-sm                    2.2.5\n",
            "entrypoints                       0.3\n",
            "ephem                             4.0.0.2\n",
            "et-xmlfile                        1.1.0\n",
            "fa2                               0.3.5\n",
            "fastai                            1.0.61\n",
            "fastdtw                           0.3.4\n",
            "fastprogress                      1.0.0\n",
            "fastrlock                         0.6\n",
            "fbprophet                         0.7.1\n",
            "feather-format                    0.4.1\n",
            "filelock                          3.0.12\n",
            "firebase-admin                    4.4.0\n",
            "fix-yahoo-finance                 0.0.22\n",
            "Flask                             1.1.4\n",
            "flatbuffers                       1.12\n",
            "folium                            0.8.3\n",
            "future                            0.16.0\n",
            "gast                              0.4.0\n",
            "GDAL                              2.2.2\n",
            "gdown                             3.6.4\n",
            "gensim                            3.6.0\n",
            "geographiclib                     1.52\n",
            "geopy                             1.17.0\n",
            "gin-config                        0.4.0\n",
            "glob2                             0.7\n",
            "google                            2.0.3\n",
            "google-api-core                   1.26.3\n",
            "google-api-python-client          1.12.8\n",
            "google-auth                       1.32.1\n",
            "google-auth-httplib2              0.0.4\n",
            "google-auth-oauthlib              0.4.4\n",
            "google-cloud-bigquery             1.21.0\n",
            "google-cloud-bigquery-storage     1.1.0\n",
            "google-cloud-core                 1.0.3\n",
            "google-cloud-datastore            1.8.0\n",
            "google-cloud-firestore            1.7.0\n",
            "google-cloud-language             1.2.0\n",
            "google-cloud-storage              1.18.1\n",
            "google-cloud-translate            1.5.0\n",
            "google-colab                      1.0.0\n",
            "google-pasta                      0.2.0\n",
            "google-resumable-media            0.4.1\n",
            "googleapis-common-protos          1.53.0\n",
            "googledrivedownloader             0.4\n",
            "graphviz                          0.10.1\n",
            "greenlet                          1.1.0\n",
            "grpcio                            1.34.1\n",
            "gspread                           3.0.1\n",
            "gspread-dataframe                 3.0.8\n",
            "gym                               0.17.3\n",
            "h5py                              3.1.0\n",
            "HeapDict                          1.0.1\n",
            "hijri-converter                   2.1.3\n",
            "holidays                          0.10.5.2\n",
            "holoviews                         1.14.4\n",
            "html5lib                          1.0.1\n",
            "httpimport                        0.5.18\n",
            "httplib2                          0.17.4\n",
            "httplib2shim                      0.0.3\n",
            "humanize                          0.5.1\n",
            "hyperopt                          0.1.2\n",
            "ideep4py                          2.0.0.post3\n",
            "idna                              2.10\n",
            "imageio                           2.4.1\n",
            "imagesize                         1.2.0\n",
            "imbalanced-learn                  0.4.3\n",
            "imblearn                          0.0\n",
            "imgaug                            0.2.9\n",
            "importlib-metadata                4.6.1\n",
            "importlib-resources               5.2.0\n",
            "imutils                           0.5.4\n",
            "inflect                           2.1.0\n",
            "iniconfig                         1.1.1\n",
            "install                           1.3.4\n",
            "intel-openmp                      2021.3.0\n",
            "intervaltree                      2.1.0\n",
            "ipykernel                         4.10.1\n",
            "ipython                           5.5.0\n",
            "ipython-genutils                  0.2.0\n",
            "ipython-sql                       0.3.9\n",
            "ipywidgets                        7.6.3\n",
            "itsdangerous                      1.1.0\n",
            "jax                               0.2.17\n",
            "jaxlib                            0.1.69+cuda110\n",
            "jdcal                             1.4.1\n",
            "jedi                              0.18.0\n",
            "jieba                             0.42.1\n",
            "Jinja2                            2.11.3\n",
            "joblib                            1.0.1\n",
            "jpeg4py                           0.1.4\n",
            "jsonschema                        2.6.0\n",
            "jupyter                           1.0.0\n",
            "jupyter-client                    5.3.5\n",
            "jupyter-console                   5.2.0\n",
            "jupyter-core                      4.7.1\n",
            "jupyterlab-pygments               0.1.2\n",
            "jupyterlab-widgets                1.0.0\n",
            "kaggle                            1.5.12\n",
            "kapre                             0.3.5\n",
            "Keras                             2.4.3\n",
            "keras-nightly                     2.5.0.dev2021032900\n",
            "Keras-Preprocessing               1.1.2\n",
            "keras-vis                         0.4.1\n",
            "kiwisolver                        1.3.1\n",
            "korean-lunar-calendar             0.2.1\n",
            "librosa                           0.8.1\n",
            "lightgbm                          2.2.3\n",
            "llvmlite                          0.34.0\n",
            "lmdb                              0.99\n",
            "LunarCalendar                     0.0.9\n",
            "lxml                              4.2.6\n",
            "Markdown                          3.3.4\n",
            "MarkupSafe                        2.0.1\n",
            "matplotlib                        3.2.2\n",
            "matplotlib-inline                 0.1.2\n",
            "matplotlib-venn                   0.11.6\n",
            "missingno                         0.5.0\n",
            "mistune                           0.8.4\n",
            "mizani                            0.6.0\n",
            "mkl                               2019.0\n",
            "mlxtend                           0.14.0\n",
            "more-itertools                    8.8.0\n",
            "moviepy                           0.2.3.5\n",
            "mpmath                            1.2.1\n",
            "msgpack                           1.0.2\n",
            "multiprocess                      0.70.12.2\n",
            "multitasking                      0.0.9\n",
            "murmurhash                        1.0.5\n",
            "music21                           5.5.0\n",
            "natsort                           5.5.0\n",
            "nbclient                          0.5.3\n",
            "nbconvert                         5.6.1\n",
            "nbformat                          5.1.3\n",
            "nest-asyncio                      1.5.1\n",
            "netCDF4                           1.5.7\n",
            "networkx                          2.5.1\n",
            "nibabel                           3.0.2\n",
            "nltk                              3.2.5\n",
            "notebook                          5.3.1\n",
            "numba                             0.51.2\n",
            "numexpr                           2.7.3\n",
            "numpy                             1.19.5\n",
            "nvidia-ml-py3                     7.352.0\n",
            "oauth2client                      4.1.3\n",
            "oauthlib                          3.1.1\n",
            "okgrade                           0.4.3\n",
            "opencv-contrib-python             4.1.2.30\n",
            "opencv-python                     4.1.2.30\n",
            "openpyxl                          2.5.9\n",
            "opt-einsum                        3.3.0\n",
            "osqp                              0.6.2.post0\n",
            "packaging                         21.0\n",
            "palettable                        3.3.0\n",
            "pandas                            1.1.5\n",
            "pandas-datareader                 0.9.0\n",
            "pandas-gbq                        0.13.3\n",
            "pandas-profiling                  1.4.1\n",
            "pandocfilters                     1.4.3\n",
            "panel                             0.11.3\n",
            "param                             1.11.1\n",
            "parso                             0.8.2\n",
            "pathlib                           1.0.1\n",
            "patsy                             0.5.1\n",
            "pexpect                           4.8.0\n",
            "pickleshare                       0.7.5\n",
            "Pillow                            7.1.2\n",
            "pip                               21.1.3\n",
            "pip-tools                         4.5.1\n",
            "plac                              1.1.3\n",
            "platformdirs                      2.0.2\n",
            "plotly                            4.4.1\n",
            "plotnine                          0.6.0\n",
            "pluggy                            0.7.1\n",
            "pooch                             1.4.0\n",
            "portpicker                        1.3.9\n",
            "prefetch-generator                1.0.1\n",
            "preshed                           3.0.5\n",
            "prettytable                       2.1.0\n",
            "progressbar2                      3.38.0\n",
            "prometheus-client                 0.11.0\n",
            "promise                           2.3\n",
            "prompt-toolkit                    1.0.18\n",
            "protobuf                          3.17.3\n",
            "psutil                            5.4.8\n",
            "psycopg2                          2.7.6.1\n",
            "ptyprocess                        0.7.0\n",
            "py                                1.10.0\n",
            "pyarrow                           3.0.0\n",
            "pyasn1                            0.4.8\n",
            "pyasn1-modules                    0.2.8\n",
            "pycocotools                       2.0.2\n",
            "pycparser                         2.20\n",
            "pyct                              0.4.8\n",
            "pydata-google-auth                1.2.0\n",
            "pydot                             1.3.0\n",
            "pydot-ng                          2.0.0\n",
            "pydotplus                         2.0.2\n",
            "PyDrive                           1.3.1\n",
            "pyemd                             0.5.1\n",
            "pyerfa                            2.0.0\n",
            "pyglet                            1.5.0\n",
            "Pygments                          2.6.1\n",
            "pygobject                         3.26.1\n",
            "pymc3                             3.11.2\n",
            "PyMeeus                           0.5.11\n",
            "pymongo                           3.11.4\n",
            "pymystem3                         0.2.0\n",
            "PyOpenGL                          3.1.5\n",
            "pyparsing                         2.4.7\n",
            "pyrsistent                        0.18.0\n",
            "pysndfile                         1.3.8\n",
            "PySocks                           1.7.1\n",
            "pystan                            2.19.1.1\n",
            "pytest                            3.6.4\n",
            "python-apt                        0.0.0\n",
            "python-chess                      0.23.11\n",
            "python-dateutil                   2.8.1\n",
            "python-louvain                    0.15\n",
            "python-slugify                    5.0.2\n",
            "python-utils                      2.5.6\n",
            "pytz                              2018.9\n",
            "pyviz-comms                       2.1.0\n",
            "PyWavelets                        1.1.1\n",
            "PyYAML                            3.13\n",
            "pyzmq                             22.1.0\n",
            "qdldl                             0.1.5.post0\n",
            "qtconsole                         5.1.1\n",
            "QtPy                              1.9.0\n",
            "regex                             2019.12.20\n",
            "requests                          2.23.0\n",
            "requests-oauthlib                 1.3.0\n",
            "resampy                           0.2.2\n",
            "retrying                          1.3.3\n",
            "rpy2                              3.4.5\n",
            "rsa                               4.7.2\n",
            "scikit-image                      0.16.2\n",
            "scikit-learn                      0.22.2.post1\n",
            "scipy                             1.4.1\n",
            "screen-resolution-extra           0.0.0\n",
            "scs                               2.1.4\n",
            "seaborn                           0.11.1\n",
            "semver                            2.13.0\n",
            "Send2Trash                        1.7.1\n",
            "setuptools                        57.2.0\n",
            "setuptools-git                    1.2\n",
            "Shapely                           1.7.1\n",
            "simplegeneric                     0.8.1\n",
            "six                               1.15.0\n",
            "sklearn                           0.0\n",
            "sklearn-pandas                    1.8.0\n",
            "smart-open                        5.1.0\n",
            "snowballstemmer                   2.1.0\n",
            "sortedcontainers                  2.4.0\n",
            "SoundFile                         0.10.3.post1\n",
            "spacy                             2.2.4\n",
            "Sphinx                            1.8.5\n",
            "sphinxcontrib-serializinghtml     1.1.5\n",
            "sphinxcontrib-websupport          1.2.4\n",
            "SQLAlchemy                        1.4.20\n",
            "sqlparse                          0.4.1\n",
            "srsly                             1.0.5\n",
            "statsmodels                       0.10.2\n",
            "sympy                             1.7.1\n",
            "tables                            3.4.4\n",
            "tabulate                          0.8.9\n",
            "tblib                             1.7.0\n",
            "tensorboard                       2.5.0\n",
            "tensorboard-data-server           0.6.1\n",
            "tensorboard-plugin-wit            1.8.0\n",
            "tensorflow                        2.5.0\n",
            "tensorflow-datasets               4.0.1\n",
            "tensorflow-estimator              2.5.0\n",
            "tensorflow-gcs-config             2.5.0\n",
            "tensorflow-hub                    0.12.0\n",
            "tensorflow-metadata               1.1.0\n",
            "tensorflow-probability            0.13.0\n",
            "termcolor                         1.1.0\n",
            "terminado                         0.10.1\n",
            "testpath                          0.5.0\n",
            "text-unidecode                    1.3\n",
            "textblob                          0.15.3\n",
            "Theano-PyMC                       1.1.2\n",
            "thinc                             7.4.0\n",
            "tifffile                          2021.7.2\n",
            "toml                              0.10.2\n",
            "toolz                             0.11.1\n",
            "torch                             1.9.0+cu102\n",
            "torchsummary                      1.5.1\n",
            "torchtext                         0.10.0\n",
            "torchvision                       0.10.0+cu102\n",
            "tornado                           5.1.1\n",
            "tqdm                              4.41.1\n",
            "traitlets                         5.0.5\n",
            "tweepy                            3.10.0\n",
            "typeguard                         2.7.1\n",
            "typing-extensions                 3.7.4.3\n",
            "tzlocal                           1.5.1\n",
            "uritemplate                       3.0.1\n",
            "urllib3                           1.24.3\n",
            "vega-datasets                     0.9.0\n",
            "virtualenv                        20.6.0\n",
            "wasabi                            0.8.2\n",
            "wcwidth                           0.2.5\n",
            "webencodings                      0.5.1\n",
            "Werkzeug                          1.0.1\n",
            "wheel                             0.36.2\n",
            "widgetsnbextension                3.5.1\n",
            "wordcloud                         1.5.0\n",
            "wrapt                             1.12.1\n",
            "xarray                            0.18.2\n",
            "xgboost                           0.90\n",
            "xkit                              0.0.0\n",
            "xlrd                              1.1.0\n",
            "xlwt                              1.3.0\n",
            "yellowbrick                       0.9.1\n",
            "zict                              2.0.0\n",
            "zipp                              3.5.0\n"
          ],
          "name": "stdout"
        }
      ]
    },
    {
      "cell_type": "markdown",
      "metadata": {
        "id": "eKw7Wr_nMoNb"
      },
      "source": [
        "Now, lets built or file architecture within the virtual environment"
      ]
    },
    {
      "cell_type": "code",
      "metadata": {
        "colab": {
          "base_uri": "https://localhost:8080/"
        },
        "id": "Y9oiLPxdLrpK",
        "outputId": "da32f3bc-a67d-4123-8561-8101b194128d"
      },
      "source": [
        "!source /content/em-prende-ml-solution/bin/activate; mkdir Data\n",
        "!source /content/em-prende-ml-solution/bin/activate; mkdir Src\n",
        "!source /content/em-prende-ml-solution/bin/activate; cd Src; mkdir api"
      ],
      "execution_count": 25,
      "outputs": [
        {
          "output_type": "stream",
          "text": [
            "mkdir: cannot create directory ‘Data’: File exists\n",
            "mkdir: cannot create directory ‘Src’: File exists\n"
          ],
          "name": "stdout"
        }
      ]
    },
    {
      "cell_type": "code",
      "metadata": {
        "id": "5F0NAdY1NQS2"
      },
      "source": [
        "#If you want to remove some directory you can use the following line just change the name of the directory\n",
        "#!source /content/em-prende-ml-solution/bin/activate; rmdir api"
      ],
      "execution_count": 28,
      "outputs": []
    },
    {
      "cell_type": "code",
      "metadata": {
        "colab": {
          "base_uri": "https://localhost:8080/"
        },
        "id": "WF_qQ2UMNZaX",
        "outputId": "19ca992f-f0dc-4462-a6cd-70418f7a40a2"
      },
      "source": [
        "!source /content/em-prende-ml-solution/bin/activate; ls"
      ],
      "execution_count": 29,
      "outputs": [
        {
          "output_type": "stream",
          "text": [
            "Data  em-prende-ml-solution  sample_data  Src\n"
          ],
          "name": "stdout"
        }
      ]
    },
    {
      "cell_type": "code",
      "metadata": {
        "colab": {
          "base_uri": "https://localhost:8080/"
        },
        "id": "_6lQmLAkL2Zb",
        "outputId": "4777389c-fe14-49e1-ac8d-0f049cb342b0"
      },
      "source": [
        "!source /content/em-prende-ml-solution/bin/activate; cd Src; ls"
      ],
      "execution_count": 27,
      "outputs": [
        {
          "output_type": "stream",
          "text": [
            "api\n"
          ],
          "name": "stdout"
        }
      ]
    },
    {
      "cell_type": "markdown",
      "metadata": {
        "id": "31iQTCjbOPVW"
      },
      "source": [
        "Create an empty file for the code \"predict.py\""
      ]
    },
    {
      "cell_type": "code",
      "metadata": {
        "id": "DKyZfI89NyAY"
      },
      "source": [
        "!source /content/em-prende-ml-solution/bin/activate; cd Src/api; touch predict.py"
      ],
      "execution_count": 31,
      "outputs": []
    },
    {
      "cell_type": "markdown",
      "metadata": {
        "id": "7Pd16J-JPOep"
      },
      "source": [
        "The following code must go into the file \"predict.py\"\n",
        "from flask import Blueprint, jsonify, request\n",
        "predict_api = Blueprint(“predict_api”, __name__)@predict_api.route(‘/predict’, methods=[‘POST’])\n",
        "def apicall():\n",
        "    return (‘It works ;)’)"
      ]
    },
    {
      "cell_type": "code",
      "metadata": {
        "colab": {
          "base_uri": "https://localhost:8080/"
        },
        "id": "4g7ESBQi_xfp",
        "outputId": "52672df5-1aa1-49f2-eef1-fc125b405ad2"
      },
      "source": [
        "!source /content/em-prende-ml-solution/bin/activate; from flask import Flask, jsonify, request, render_template, abort\n",
        "# from Src.utils import ClassificationModelBuilder # Uncomment only if you want to re-train your model\n",
        "!source /content/em-prende-ml-solution/bin/activate; from Src.api.predict import predict_api\n",
        "!source /content/em-prende-ml-solution/bin/activate; from jinja2 import TemplateNotFound"
      ],
      "execution_count": 34,
      "outputs": [
        {
          "output_type": "stream",
          "text": [
            "from: can't read /var/mail/flask\n",
            "from: can't read /var/mail/Src.api.predict\n",
            "from: can't read /var/mail/jinja2\n"
          ],
          "name": "stdout"
        }
      ]
    },
    {
      "cell_type": "code",
      "metadata": {
        "id": "A-_TkuFDBdGo"
      },
      "source": [
        ""
      ],
      "execution_count": null,
      "outputs": []
    }
  ]
}