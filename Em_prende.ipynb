{
  "nbformat": 4,
  "nbformat_minor": 0,
  "metadata": {
    "colab": {
      "name": "Em-prende.ipynb",
      "provenance": [],
      "collapsed_sections": [],
      "authorship_tag": "ABX9TyOHr8Y1RRev+jHTQOWPAJky",
      "include_colab_link": true
    },
    "kernelspec": {
      "name": "python3",
      "display_name": "Python 3"
    },
    "language_info": {
      "name": "python"
    }
  },
  "cells": [
    {
      "cell_type": "markdown",
      "metadata": {
        "id": "view-in-github",
        "colab_type": "text"
      },
      "source": [
        "<a href=\"https://colab.research.google.com/github/mmendezs2021/Em-prende/blob/main/Em_prende.ipynb\" target=\"_parent\"><img src=\"https://colab.research.google.com/assets/colab-badge.svg\" alt=\"Open In Colab\"/></a>"
      ]
    },
    {
      "cell_type": "code",
      "metadata": {
        "id": "9T-9OTIQAfIz"
      },
      "source": [
        "import sys\n",
        "sys.path.append('../src')"
      ],
      "execution_count": 1,
      "outputs": []
    },
    {
      "cell_type": "code",
      "metadata": {
        "id": "vX3E0ttdEhop"
      },
      "source": [
        "from setuptools import setup, find_packages"
      ],
      "execution_count": 2,
      "outputs": []
    },
    {
      "cell_type": "code",
      "metadata": {
        "colab": {
          "base_uri": "https://localhost:8080/"
        },
        "id": "GjEblYTMEzM3",
        "outputId": "fee4bba2-812c-4da7-834c-b1f1a560ffde"
      },
      "source": [
        "!pip3 install virtualenv"
      ],
      "execution_count": 3,
      "outputs": [
        {
          "output_type": "stream",
          "text": [
            "Collecting virtualenv\n",
            "  Downloading virtualenv-20.6.0-py2.py3-none-any.whl (5.3 MB)\n",
            "\u001b[K     |████████████████████████████████| 5.3 MB 26.5 MB/s \n",
            "\u001b[?25hCollecting platformdirs<3,>=2\n",
            "  Downloading platformdirs-2.0.2-py2.py3-none-any.whl (10 kB)\n",
            "Requirement already satisfied: importlib-metadata>=0.12 in /usr/local/lib/python3.7/dist-packages (from virtualenv) (4.6.1)\n",
            "Collecting backports.entry-points-selectable>=1.0.4\n",
            "  Downloading backports.entry_points_selectable-1.1.0-py2.py3-none-any.whl (6.2 kB)\n",
            "Collecting distlib<1,>=0.3.1\n",
            "  Downloading distlib-0.3.2-py2.py3-none-any.whl (338 kB)\n",
            "\u001b[K     |████████████████████████████████| 338 kB 59.8 MB/s \n",
            "\u001b[?25hRequirement already satisfied: six<2,>=1.9.0 in /usr/local/lib/python3.7/dist-packages (from virtualenv) (1.15.0)\n",
            "Requirement already satisfied: filelock<4,>=3.0.0 in /usr/local/lib/python3.7/dist-packages (from virtualenv) (3.0.12)\n",
            "Requirement already satisfied: zipp>=0.5 in /usr/local/lib/python3.7/dist-packages (from importlib-metadata>=0.12->virtualenv) (3.5.0)\n",
            "Requirement already satisfied: typing-extensions>=3.6.4 in /usr/local/lib/python3.7/dist-packages (from importlib-metadata>=0.12->virtualenv) (3.7.4.3)\n",
            "Installing collected packages: platformdirs, distlib, backports.entry-points-selectable, virtualenv\n",
            "Successfully installed backports.entry-points-selectable-1.1.0 distlib-0.3.2 platformdirs-2.0.2 virtualenv-20.6.0\n"
          ],
          "name": "stdout"
        }
      ]
    },
    {
      "cell_type": "code",
      "metadata": {
        "colab": {
          "base_uri": "https://localhost:8080/"
        },
        "id": "FihLHZFJHRe1",
        "outputId": "616ba1c7-2496-4201-8a71-dad5d8a80d3a"
      },
      "source": [
        "!virtualenv em-prende-ml-solution"
      ],
      "execution_count": 4,
      "outputs": [
        {
          "output_type": "stream",
          "text": [
            "created virtual environment CPython3.7.11.final.0-64 in 704ms\n",
            "  creator CPython3Posix(dest=/content/em-prende-ml-solution, clear=False, no_vcs_ignore=False, global=False)\n",
            "  seeder FromAppData(download=False, pip=bundle, setuptools=bundle, wheel=bundle, via=copy, app_data_dir=/root/.local/share/virtualenv)\n",
            "    added seed packages: pip==21.1.3, setuptools==57.1.0, wheel==0.36.2\n",
            "  activators BashActivator,CShellActivator,FishActivator,PowerShellActivator,PythonActivator,XonshActivator\n"
          ],
          "name": "stdout"
        }
      ]
    },
    {
      "cell_type": "markdown",
      "metadata": {
        "id": "NsWQHm9qLbFC"
      },
      "source": [
        "Now, lets install some libraries in our virtual environment \"em-prende-ml-solution\""
      ]
    },
    {
      "cell_type": "code",
      "metadata": {
        "id": "n01Akc-H9Bt9"
      },
      "source": [
        ""
      ],
      "execution_count": 4,
      "outputs": []
    },
    {
      "cell_type": "code",
      "metadata": {
        "colab": {
          "base_uri": "https://localhost:8080/"
        },
        "id": "TaG3nS8W7fBi",
        "outputId": "784e8559-059d-4ae4-9b63-c1cad46eec7c"
      },
      "source": [
        "!source /content/em-prende-ml-solution/bin/activate; pip install dill Flask Jinja2 numpy pandas scikit-learn scipy sklearn xgboost matplotlib ipykernel"
      ],
      "execution_count": 34,
      "outputs": [
        {
          "output_type": "stream",
          "text": [
            "Requirement already satisfied: dill in ./em-prende-ml-solution/lib/python3.7/site-packages (0.3.4)\n",
            "Requirement already satisfied: Flask in ./em-prende-ml-solution/lib/python3.7/site-packages (2.0.1)\n",
            "Requirement already satisfied: Jinja2 in ./em-prende-ml-solution/lib/python3.7/site-packages (3.0.1)\n",
            "Requirement already satisfied: numpy in ./em-prende-ml-solution/lib/python3.7/site-packages (1.21.1)\n",
            "Requirement already satisfied: pandas in ./em-prende-ml-solution/lib/python3.7/site-packages (1.3.0)\n",
            "Requirement already satisfied: scikit-learn in ./em-prende-ml-solution/lib/python3.7/site-packages (0.24.2)\n",
            "Requirement already satisfied: scipy in ./em-prende-ml-solution/lib/python3.7/site-packages (1.7.0)\n",
            "Requirement already satisfied: sklearn in ./em-prende-ml-solution/lib/python3.7/site-packages (0.0)\n",
            "Requirement already satisfied: xgboost in ./em-prende-ml-solution/lib/python3.7/site-packages (1.4.2)\n",
            "Collecting matplotlib\n",
            "  Downloading matplotlib-3.4.2-cp37-cp37m-manylinux1_x86_64.whl (10.3 MB)\n",
            "\u001b[K     |████████████████████████████████| 10.3 MB 28.2 MB/s \n",
            "\u001b[?25hRequirement already satisfied: Werkzeug>=2.0 in ./em-prende-ml-solution/lib/python3.7/site-packages (from Flask) (2.0.1)\n",
            "Requirement already satisfied: click>=7.1.2 in ./em-prende-ml-solution/lib/python3.7/site-packages (from Flask) (8.0.1)\n",
            "Requirement already satisfied: itsdangerous>=2.0 in ./em-prende-ml-solution/lib/python3.7/site-packages (from Flask) (2.0.1)\n",
            "Requirement already satisfied: MarkupSafe>=2.0 in ./em-prende-ml-solution/lib/python3.7/site-packages (from Jinja2) (2.0.1)\n",
            "Requirement already satisfied: importlib-metadata in ./em-prende-ml-solution/lib/python3.7/site-packages (from click>=7.1.2->Flask) (4.6.1)\n",
            "Requirement already satisfied: python-dateutil>=2.7.3 in ./em-prende-ml-solution/lib/python3.7/site-packages (from pandas) (2.8.2)\n",
            "Requirement already satisfied: pytz>=2017.3 in ./em-prende-ml-solution/lib/python3.7/site-packages (from pandas) (2021.1)\n",
            "Requirement already satisfied: six>=1.5 in ./em-prende-ml-solution/lib/python3.7/site-packages (from python-dateutil>=2.7.3->pandas) (1.16.0)\n",
            "Requirement already satisfied: threadpoolctl>=2.0.0 in ./em-prende-ml-solution/lib/python3.7/site-packages (from scikit-learn) (2.2.0)\n",
            "Requirement already satisfied: joblib>=0.11 in ./em-prende-ml-solution/lib/python3.7/site-packages (from scikit-learn) (1.0.1)\n",
            "Collecting cycler>=0.10\n",
            "  Downloading cycler-0.10.0-py2.py3-none-any.whl (6.5 kB)\n",
            "Collecting pyparsing>=2.2.1\n",
            "  Downloading pyparsing-2.4.7-py2.py3-none-any.whl (67 kB)\n",
            "\u001b[K     |████████████████████████████████| 67 kB 5.6 MB/s \n",
            "\u001b[?25hCollecting kiwisolver>=1.0.1\n",
            "  Downloading kiwisolver-1.3.1-cp37-cp37m-manylinux1_x86_64.whl (1.1 MB)\n",
            "\u001b[K     |████████████████████████████████| 1.1 MB 44.8 MB/s \n",
            "\u001b[?25hCollecting pillow>=6.2.0\n",
            "  Downloading Pillow-8.3.1-cp37-cp37m-manylinux_2_5_x86_64.manylinux1_x86_64.whl (3.0 MB)\n",
            "\u001b[K     |████████████████████████████████| 3.0 MB 41.4 MB/s \n",
            "\u001b[?25hRequirement already satisfied: typing-extensions>=3.6.4 in ./em-prende-ml-solution/lib/python3.7/site-packages (from importlib-metadata->click>=7.1.2->Flask) (3.10.0.0)\n",
            "Requirement already satisfied: zipp>=0.5 in ./em-prende-ml-solution/lib/python3.7/site-packages (from importlib-metadata->click>=7.1.2->Flask) (3.5.0)\n",
            "Installing collected packages: pyparsing, pillow, kiwisolver, cycler, matplotlib\n",
            "Successfully installed cycler-0.10.0 kiwisolver-1.3.1 matplotlib-3.4.2 pillow-8.3.1 pyparsing-2.4.7\n"
          ],
          "name": "stdout"
        }
      ]
    },
    {
      "cell_type": "markdown",
      "metadata": {
        "id": "LXTySrJaLNPC"
      },
      "source": [
        "The following line shows all packages installed in our virtual environment"
      ]
    },
    {
      "cell_type": "code",
      "metadata": {
        "colab": {
          "base_uri": "https://localhost:8080/"
        },
        "id": "OTse3UDnLHcu",
        "outputId": "6dd8e8f9-52d8-4b91-da7e-fa8d8c5238b1"
      },
      "source": [
        "!source /content/theanoEnv/bin/activate; pip3 list "
      ],
      "execution_count": 6,
      "outputs": [
        {
          "output_type": "stream",
          "text": [
            "/bin/bash: /content/theanoEnv/bin/activate: No such file or directory\n",
            "Package                           Version\n",
            "--------------------------------- -------------------\n",
            "absl-py                           0.12.0\n",
            "alabaster                         0.7.12\n",
            "albumentations                    0.1.12\n",
            "altair                            4.1.0\n",
            "appdirs                           1.4.4\n",
            "argon2-cffi                       20.1.0\n",
            "arviz                             0.11.2\n",
            "astor                             0.8.1\n",
            "astropy                           4.2.1\n",
            "astunparse                        1.6.3\n",
            "async-generator                   1.10\n",
            "atari-py                          0.2.9\n",
            "atomicwrites                      1.4.0\n",
            "attrs                             21.2.0\n",
            "audioread                         2.1.9\n",
            "autograd                          1.3\n",
            "Babel                             2.9.1\n",
            "backcall                          0.2.0\n",
            "backports.entry-points-selectable 1.1.0\n",
            "beautifulsoup4                    4.6.3\n",
            "bleach                            3.3.0\n",
            "blis                              0.4.1\n",
            "bokeh                             2.3.3\n",
            "Bottleneck                        1.3.2\n",
            "branca                            0.4.2\n",
            "bs4                               0.0.1\n",
            "CacheControl                      0.12.6\n",
            "cached-property                   1.5.2\n",
            "cachetools                        4.2.2\n",
            "catalogue                         1.0.0\n",
            "certifi                           2021.5.30\n",
            "cffi                              1.14.6\n",
            "cftime                            1.5.0\n",
            "chardet                           3.0.4\n",
            "charset-normalizer                2.0.2\n",
            "click                             7.1.2\n",
            "cloudpickle                       1.3.0\n",
            "cmake                             3.12.0\n",
            "cmdstanpy                         0.9.5\n",
            "colorcet                          2.0.6\n",
            "colorlover                        0.3.0\n",
            "community                         1.0.0b1\n",
            "contextlib2                       0.5.5\n",
            "convertdate                       2.3.2\n",
            "coverage                          3.7.1\n",
            "coveralls                         0.5\n",
            "crcmod                            1.7\n",
            "cufflinks                         0.17.3\n",
            "cvxopt                            1.2.6\n",
            "cvxpy                             1.0.31\n",
            "cycler                            0.10.0\n",
            "cymem                             2.0.5\n",
            "Cython                            0.29.23\n",
            "daft                              0.0.4\n",
            "dask                              2.12.0\n",
            "datascience                       0.10.6\n",
            "debugpy                           1.0.0\n",
            "decorator                         4.4.2\n",
            "defusedxml                        0.7.1\n",
            "descartes                         1.1.0\n",
            "dill                              0.3.4\n",
            "distlib                           0.3.2\n",
            "distributed                       1.25.3\n",
            "dlib                              19.18.0\n",
            "dm-tree                           0.1.6\n",
            "docopt                            0.6.2\n",
            "docutils                          0.17.1\n",
            "dopamine-rl                       1.0.5\n",
            "earthengine-api                   0.1.272\n",
            "easydict                          1.9\n",
            "ecos                              2.0.7.post1\n",
            "editdistance                      0.5.3\n",
            "en-core-web-sm                    2.2.5\n",
            "entrypoints                       0.3\n",
            "ephem                             4.0.0.2\n",
            "et-xmlfile                        1.1.0\n",
            "fa2                               0.3.5\n",
            "fastai                            1.0.61\n",
            "fastdtw                           0.3.4\n",
            "fastprogress                      1.0.0\n",
            "fastrlock                         0.6\n",
            "fbprophet                         0.7.1\n",
            "feather-format                    0.4.1\n",
            "filelock                          3.0.12\n",
            "firebase-admin                    4.4.0\n",
            "fix-yahoo-finance                 0.0.22\n",
            "Flask                             1.1.4\n",
            "flatbuffers                       1.12\n",
            "folium                            0.8.3\n",
            "future                            0.16.0\n",
            "gast                              0.4.0\n",
            "GDAL                              2.2.2\n",
            "gdown                             3.6.4\n",
            "gensim                            3.6.0\n",
            "geographiclib                     1.52\n",
            "geopy                             1.17.0\n",
            "gin-config                        0.4.0\n",
            "glob2                             0.7\n",
            "google                            2.0.3\n",
            "google-api-core                   1.26.3\n",
            "google-api-python-client          1.12.8\n",
            "google-auth                       1.32.1\n",
            "google-auth-httplib2              0.0.4\n",
            "google-auth-oauthlib              0.4.4\n",
            "google-cloud-bigquery             1.21.0\n",
            "google-cloud-bigquery-storage     1.1.0\n",
            "google-cloud-core                 1.0.3\n",
            "google-cloud-datastore            1.8.0\n",
            "google-cloud-firestore            1.7.0\n",
            "google-cloud-language             1.2.0\n",
            "google-cloud-storage              1.18.1\n",
            "google-cloud-translate            1.5.0\n",
            "google-colab                      1.0.0\n",
            "google-pasta                      0.2.0\n",
            "google-resumable-media            0.4.1\n",
            "googleapis-common-protos          1.53.0\n",
            "googledrivedownloader             0.4\n",
            "graphviz                          0.10.1\n",
            "greenlet                          1.1.0\n",
            "grpcio                            1.34.1\n",
            "gspread                           3.0.1\n",
            "gspread-dataframe                 3.0.8\n",
            "gym                               0.17.3\n",
            "h5py                              3.1.0\n",
            "HeapDict                          1.0.1\n",
            "hijri-converter                   2.1.3\n",
            "holidays                          0.10.5.2\n",
            "holoviews                         1.14.4\n",
            "html5lib                          1.0.1\n",
            "httpimport                        0.5.18\n",
            "httplib2                          0.17.4\n",
            "httplib2shim                      0.0.3\n",
            "humanize                          0.5.1\n",
            "hyperopt                          0.1.2\n",
            "ideep4py                          2.0.0.post3\n",
            "idna                              2.10\n",
            "imageio                           2.4.1\n",
            "imagesize                         1.2.0\n",
            "imbalanced-learn                  0.4.3\n",
            "imblearn                          0.0\n",
            "imgaug                            0.2.9\n",
            "importlib-metadata                4.6.1\n",
            "importlib-resources               5.2.0\n",
            "imutils                           0.5.4\n",
            "inflect                           2.1.0\n",
            "iniconfig                         1.1.1\n",
            "install                           1.3.4\n",
            "intel-openmp                      2021.3.0\n",
            "intervaltree                      2.1.0\n",
            "ipykernel                         4.10.1\n",
            "ipython                           5.5.0\n",
            "ipython-genutils                  0.2.0\n",
            "ipython-sql                       0.3.9\n",
            "ipywidgets                        7.6.3\n",
            "itsdangerous                      1.1.0\n",
            "jax                               0.2.17\n",
            "jaxlib                            0.1.69+cuda110\n",
            "jdcal                             1.4.1\n",
            "jedi                              0.18.0\n",
            "jieba                             0.42.1\n",
            "Jinja2                            2.11.3\n",
            "joblib                            1.0.1\n",
            "jpeg4py                           0.1.4\n",
            "jsonschema                        2.6.0\n",
            "jupyter                           1.0.0\n",
            "jupyter-client                    5.3.5\n",
            "jupyter-console                   5.2.0\n",
            "jupyter-core                      4.7.1\n",
            "jupyterlab-pygments               0.1.2\n",
            "jupyterlab-widgets                1.0.0\n",
            "kaggle                            1.5.12\n",
            "kapre                             0.3.5\n",
            "Keras                             2.4.3\n",
            "keras-nightly                     2.5.0.dev2021032900\n",
            "Keras-Preprocessing               1.1.2\n",
            "keras-vis                         0.4.1\n",
            "kiwisolver                        1.3.1\n",
            "korean-lunar-calendar             0.2.1\n",
            "librosa                           0.8.1\n",
            "lightgbm                          2.2.3\n",
            "llvmlite                          0.34.0\n",
            "lmdb                              0.99\n",
            "LunarCalendar                     0.0.9\n",
            "lxml                              4.2.6\n",
            "Markdown                          3.3.4\n",
            "MarkupSafe                        2.0.1\n",
            "matplotlib                        3.2.2\n",
            "matplotlib-inline                 0.1.2\n",
            "matplotlib-venn                   0.11.6\n",
            "missingno                         0.5.0\n",
            "mistune                           0.8.4\n",
            "mizani                            0.6.0\n",
            "mkl                               2019.0\n",
            "mlxtend                           0.14.0\n",
            "more-itertools                    8.8.0\n",
            "moviepy                           0.2.3.5\n",
            "mpmath                            1.2.1\n",
            "msgpack                           1.0.2\n",
            "multiprocess                      0.70.12.2\n",
            "multitasking                      0.0.9\n",
            "murmurhash                        1.0.5\n",
            "music21                           5.5.0\n",
            "natsort                           5.5.0\n",
            "nbclient                          0.5.3\n",
            "nbconvert                         5.6.1\n",
            "nbformat                          5.1.3\n",
            "nest-asyncio                      1.5.1\n",
            "netCDF4                           1.5.7\n",
            "networkx                          2.5.1\n",
            "nibabel                           3.0.2\n",
            "nltk                              3.2.5\n",
            "notebook                          5.3.1\n",
            "numba                             0.51.2\n",
            "numexpr                           2.7.3\n",
            "numpy                             1.19.5\n",
            "nvidia-ml-py3                     7.352.0\n",
            "oauth2client                      4.1.3\n",
            "oauthlib                          3.1.1\n",
            "okgrade                           0.4.3\n",
            "opencv-contrib-python             4.1.2.30\n",
            "opencv-python                     4.1.2.30\n",
            "openpyxl                          2.5.9\n",
            "opt-einsum                        3.3.0\n",
            "osqp                              0.6.2.post0\n",
            "packaging                         21.0\n",
            "palettable                        3.3.0\n",
            "pandas                            1.1.5\n",
            "pandas-datareader                 0.9.0\n",
            "pandas-gbq                        0.13.3\n",
            "pandas-profiling                  1.4.1\n",
            "pandocfilters                     1.4.3\n",
            "panel                             0.11.3\n",
            "param                             1.11.1\n",
            "parso                             0.8.2\n",
            "pathlib                           1.0.1\n",
            "patsy                             0.5.1\n",
            "pexpect                           4.8.0\n",
            "pickleshare                       0.7.5\n",
            "Pillow                            7.1.2\n",
            "pip                               21.1.3\n",
            "pip-tools                         4.5.1\n",
            "plac                              1.1.3\n",
            "platformdirs                      2.0.2\n",
            "plotly                            4.4.1\n",
            "plotnine                          0.6.0\n",
            "pluggy                            0.7.1\n",
            "pooch                             1.4.0\n",
            "portpicker                        1.3.9\n",
            "prefetch-generator                1.0.1\n",
            "preshed                           3.0.5\n",
            "prettytable                       2.1.0\n",
            "progressbar2                      3.38.0\n",
            "prometheus-client                 0.11.0\n",
            "promise                           2.3\n",
            "prompt-toolkit                    1.0.18\n",
            "protobuf                          3.17.3\n",
            "psutil                            5.4.8\n",
            "psycopg2                          2.7.6.1\n",
            "ptyprocess                        0.7.0\n",
            "py                                1.10.0\n",
            "pyarrow                           3.0.0\n",
            "pyasn1                            0.4.8\n",
            "pyasn1-modules                    0.2.8\n",
            "pycocotools                       2.0.2\n",
            "pycparser                         2.20\n",
            "pyct                              0.4.8\n",
            "pydata-google-auth                1.2.0\n",
            "pydot                             1.3.0\n",
            "pydot-ng                          2.0.0\n",
            "pydotplus                         2.0.2\n",
            "PyDrive                           1.3.1\n",
            "pyemd                             0.5.1\n",
            "pyerfa                            2.0.0\n",
            "pyglet                            1.5.0\n",
            "Pygments                          2.6.1\n",
            "pygobject                         3.26.1\n",
            "pymc3                             3.11.2\n",
            "PyMeeus                           0.5.11\n",
            "pymongo                           3.11.4\n",
            "pymystem3                         0.2.0\n",
            "PyOpenGL                          3.1.5\n",
            "pyparsing                         2.4.7\n",
            "pyrsistent                        0.18.0\n",
            "pysndfile                         1.3.8\n",
            "PySocks                           1.7.1\n",
            "pystan                            2.19.1.1\n",
            "pytest                            3.6.4\n",
            "python-apt                        0.0.0\n",
            "python-chess                      0.23.11\n",
            "python-dateutil                   2.8.1\n",
            "python-louvain                    0.15\n",
            "python-slugify                    5.0.2\n",
            "python-utils                      2.5.6\n",
            "pytz                              2018.9\n",
            "pyviz-comms                       2.1.0\n",
            "PyWavelets                        1.1.1\n",
            "PyYAML                            3.13\n",
            "pyzmq                             22.1.0\n",
            "qdldl                             0.1.5.post0\n",
            "qtconsole                         5.1.1\n",
            "QtPy                              1.9.0\n",
            "regex                             2019.12.20\n",
            "requests                          2.23.0\n",
            "requests-oauthlib                 1.3.0\n",
            "resampy                           0.2.2\n",
            "retrying                          1.3.3\n",
            "rpy2                              3.4.5\n",
            "rsa                               4.7.2\n",
            "scikit-image                      0.16.2\n",
            "scikit-learn                      0.22.2.post1\n",
            "scipy                             1.4.1\n",
            "screen-resolution-extra           0.0.0\n",
            "scs                               2.1.4\n",
            "seaborn                           0.11.1\n",
            "semver                            2.13.0\n",
            "Send2Trash                        1.7.1\n",
            "setuptools                        57.2.0\n",
            "setuptools-git                    1.2\n",
            "Shapely                           1.7.1\n",
            "simplegeneric                     0.8.1\n",
            "six                               1.15.0\n",
            "sklearn                           0.0\n",
            "sklearn-pandas                    1.8.0\n",
            "smart-open                        5.1.0\n",
            "snowballstemmer                   2.1.0\n",
            "sortedcontainers                  2.4.0\n",
            "SoundFile                         0.10.3.post1\n",
            "spacy                             2.2.4\n",
            "Sphinx                            1.8.5\n",
            "sphinxcontrib-serializinghtml     1.1.5\n",
            "sphinxcontrib-websupport          1.2.4\n",
            "SQLAlchemy                        1.4.20\n",
            "sqlparse                          0.4.1\n",
            "srsly                             1.0.5\n",
            "statsmodels                       0.10.2\n",
            "sympy                             1.7.1\n",
            "tables                            3.4.4\n",
            "tabulate                          0.8.9\n",
            "tblib                             1.7.0\n",
            "tensorboard                       2.5.0\n",
            "tensorboard-data-server           0.6.1\n",
            "tensorboard-plugin-wit            1.8.0\n",
            "tensorflow                        2.5.0\n",
            "tensorflow-datasets               4.0.1\n",
            "tensorflow-estimator              2.5.0\n",
            "tensorflow-gcs-config             2.5.0\n",
            "tensorflow-hub                    0.12.0\n",
            "tensorflow-metadata               1.1.0\n",
            "tensorflow-probability            0.13.0\n",
            "termcolor                         1.1.0\n",
            "terminado                         0.10.1\n",
            "testpath                          0.5.0\n",
            "text-unidecode                    1.3\n",
            "textblob                          0.15.3\n",
            "Theano-PyMC                       1.1.2\n",
            "thinc                             7.4.0\n",
            "tifffile                          2021.7.2\n",
            "toml                              0.10.2\n",
            "toolz                             0.11.1\n",
            "torch                             1.9.0+cu102\n",
            "torchsummary                      1.5.1\n",
            "torchtext                         0.10.0\n",
            "torchvision                       0.10.0+cu102\n",
            "tornado                           5.1.1\n",
            "tqdm                              4.41.1\n",
            "traitlets                         5.0.5\n",
            "tweepy                            3.10.0\n",
            "typeguard                         2.7.1\n",
            "typing-extensions                 3.7.4.3\n",
            "tzlocal                           1.5.1\n",
            "uritemplate                       3.0.1\n",
            "urllib3                           1.24.3\n",
            "vega-datasets                     0.9.0\n",
            "virtualenv                        20.6.0\n",
            "wasabi                            0.8.2\n",
            "wcwidth                           0.2.5\n",
            "webencodings                      0.5.1\n",
            "Werkzeug                          1.0.1\n",
            "wheel                             0.36.2\n",
            "widgetsnbextension                3.5.1\n",
            "wordcloud                         1.5.0\n",
            "wrapt                             1.12.1\n",
            "xarray                            0.18.2\n",
            "xgboost                           0.90\n",
            "xkit                              0.0.0\n",
            "xlrd                              1.1.0\n",
            "xlwt                              1.3.0\n",
            "yellowbrick                       0.9.1\n",
            "zict                              2.0.0\n",
            "zipp                              3.5.0\n"
          ],
          "name": "stdout"
        }
      ]
    },
    {
      "cell_type": "markdown",
      "metadata": {
        "id": "eKw7Wr_nMoNb"
      },
      "source": [
        "Now, lets built or file architecture within the virtual environment"
      ]
    },
    {
      "cell_type": "code",
      "metadata": {
        "id": "Y9oiLPxdLrpK"
      },
      "source": [
        "!source /content/em-prende-ml-solution/bin/activate; mkdir Data\n",
        "!source /content/em-prende-ml-solution/bin/activate; mkdir Src\n",
        "!source /content/em-prende-ml-solution/bin/activate; cd Src; mkdir api\n",
        "!source /content/em-prende-ml-solution/bin/activate; cd Src; mkdir templates\n",
        "#!source /content/em-prende-ml-solution/bin/activate; cd Src; cd api; mkdir predict\n",
        "!source /content/em-prende-ml-solution/bin/activate; echo \"hello world\" > Src/templates/index.html"
      ],
      "execution_count": 7,
      "outputs": []
    },
    {
      "cell_type": "code",
      "metadata": {
        "id": "5F0NAdY1NQS2"
      },
      "source": [
        "#If you want to remove some directory you can use the following line just change the name of the directory\n",
        "#!source /content/em-prende-ml-solution/bin/activate; cd Src; rmdir predict"
      ],
      "execution_count": 8,
      "outputs": []
    },
    {
      "cell_type": "code",
      "metadata": {
        "colab": {
          "base_uri": "https://localhost:8080/"
        },
        "id": "WF_qQ2UMNZaX",
        "outputId": "0f559266-6878-4369-bf3a-4f506abb1063"
      },
      "source": [
        "!source /content/em-prende-ml-solution/bin/activate; ls"
      ],
      "execution_count": 9,
      "outputs": [
        {
          "output_type": "stream",
          "text": [
            "Data  em-prende-ml-solution  sample_data  Src\n"
          ],
          "name": "stdout"
        }
      ]
    },
    {
      "cell_type": "code",
      "metadata": {
        "colab": {
          "base_uri": "https://localhost:8080/"
        },
        "id": "_6lQmLAkL2Zb",
        "outputId": "3f24c3a3-9bb0-42d4-ca9c-8d7ab9ad66b9"
      },
      "source": [
        "!source /content/em-prende-ml-solution/bin/activate; cd Src; ls"
      ],
      "execution_count": 10,
      "outputs": [
        {
          "output_type": "stream",
          "text": [
            "api  templates\n"
          ],
          "name": "stdout"
        }
      ]
    },
    {
      "cell_type": "markdown",
      "metadata": {
        "id": "31iQTCjbOPVW"
      },
      "source": [
        "Create an empty file for the code \"predict.py\"\n",
        "Then you need to copy the file with the actual code for the program to run"
      ]
    },
    {
      "cell_type": "code",
      "metadata": {
        "id": "DKyZfI89NyAY"
      },
      "source": [
        "!source /content/em-prende-ml-solution/bin/activate; cd Src/api; touch predict.py"
      ],
      "execution_count": 11,
      "outputs": []
    },
    {
      "cell_type": "markdown",
      "metadata": {
        "id": "7Pd16J-JPOep"
      },
      "source": [
        "The following code must go into the file \"predict.py\"\n",
        "from flask import Blueprint, jsonify, request\n",
        "predict_api = Blueprint(“predict_api”, __name__)@predict_api.route(‘/predict’, methods=[‘POST’])\n",
        "def apicall():\n",
        "    return (‘It works ;)’)"
      ]
    },
    {
      "cell_type": "code",
      "metadata": {
        "colab": {
          "base_uri": "https://localhost:8080/"
        },
        "id": "G8gxagpgscZC",
        "outputId": "bca61eb6-c0b5-432e-d83c-5628e0e824c0"
      },
      "source": [
        "!source /content/em-prende-ml-solution/bin/activate; python application.py\n"
      ],
      "execution_count": 12,
      "outputs": [
        {
          "output_type": "stream",
          "text": [
            "python: can't open file 'application.py': [Errno 2] No such file or directory\n"
          ],
          "name": "stdout"
        }
      ]
    },
    {
      "cell_type": "markdown",
      "metadata": {
        "id": "uJ1W6ccNbsCl"
      },
      "source": [
        "!source /content/em-prende-ml-solution/bin/activate; python application.py"
      ]
    },
    {
      "cell_type": "code",
      "metadata": {
        "id": "4g7ESBQi_xfp"
      },
      "source": [
        ""
      ],
      "execution_count": 12,
      "outputs": []
    },
    {
      "cell_type": "markdown",
      "metadata": {
        "id": "A-_TkuFDBdGo"
      },
      "source": [
        "!source /content/em-prende-ml-solution/bin/activate; cd Src; mkdir utils"
      ]
    },
    {
      "cell_type": "code",
      "metadata": {
        "id": "17yhlrCIsmk_"
      },
      "source": [
        "!source /content/em-prende-ml-solution/bin/activate; cd Src; mkdir utils"
      ],
      "execution_count": 13,
      "outputs": []
    },
    {
      "cell_type": "code",
      "metadata": {
        "colab": {
          "base_uri": "https://localhost:8080/"
        },
        "id": "0JruUhAksrcP",
        "outputId": "69444fb6-71b7-4e32-f23a-9e547a15f208"
      },
      "source": [
        "!source /content/em-prende-ml-solution/bin/activate; cd Src; ls"
      ],
      "execution_count": 14,
      "outputs": [
        {
          "output_type": "stream",
          "text": [
            "api  templates\tutils\n"
          ],
          "name": "stdout"
        }
      ]
    },
    {
      "cell_type": "code",
      "metadata": {
        "id": "PEYbyOLxsun_"
      },
      "source": [
        "!source /content/em-prende-ml-solution/bin/activate; cd Src; cd utils; python ClassificationModelBuilder.py"
      ],
      "execution_count": 14,
      "outputs": []
    },
    {
      "cell_type": "markdown",
      "metadata": {
        "id": "tVtPnygS1aEj"
      },
      "source": [
        "The following code lines allow you to import a big file (the dataset) from Google Drive"
      ]
    },
    {
      "cell_type": "code",
      "metadata": {
        "colab": {
          "base_uri": "https://localhost:8080/"
        },
        "id": "ag9SMPZe1ZQ-",
        "outputId": "77afb86a-cc70-4989-c041-9c8ec6ee86c2"
      },
      "source": [
        "!pip install PyDrive"
      ],
      "execution_count": 15,
      "outputs": [
        {
          "output_type": "stream",
          "text": [
            "Requirement already satisfied: PyDrive in /usr/local/lib/python3.7/dist-packages (1.3.1)\n",
            "Requirement already satisfied: oauth2client>=4.0.0 in /usr/local/lib/python3.7/dist-packages (from PyDrive) (4.1.3)\n",
            "Requirement already satisfied: google-api-python-client>=1.2 in /usr/local/lib/python3.7/dist-packages (from PyDrive) (1.12.8)\n",
            "Requirement already satisfied: PyYAML>=3.0 in /usr/local/lib/python3.7/dist-packages (from PyDrive) (3.13)\n",
            "Requirement already satisfied: google-api-core<2dev,>=1.21.0 in /usr/local/lib/python3.7/dist-packages (from google-api-python-client>=1.2->PyDrive) (1.26.3)\n",
            "Requirement already satisfied: google-auth-httplib2>=0.0.3 in /usr/local/lib/python3.7/dist-packages (from google-api-python-client>=1.2->PyDrive) (0.0.4)\n",
            "Requirement already satisfied: uritemplate<4dev,>=3.0.0 in /usr/local/lib/python3.7/dist-packages (from google-api-python-client>=1.2->PyDrive) (3.0.1)\n",
            "Requirement already satisfied: google-auth>=1.16.0 in /usr/local/lib/python3.7/dist-packages (from google-api-python-client>=1.2->PyDrive) (1.32.1)\n",
            "Requirement already satisfied: six<2dev,>=1.13.0 in /usr/local/lib/python3.7/dist-packages (from google-api-python-client>=1.2->PyDrive) (1.15.0)\n",
            "Requirement already satisfied: httplib2<1dev,>=0.15.0 in /usr/local/lib/python3.7/dist-packages (from google-api-python-client>=1.2->PyDrive) (0.17.4)\n",
            "Requirement already satisfied: protobuf>=3.12.0 in /usr/local/lib/python3.7/dist-packages (from google-api-core<2dev,>=1.21.0->google-api-python-client>=1.2->PyDrive) (3.17.3)\n",
            "Requirement already satisfied: googleapis-common-protos<2.0dev,>=1.6.0 in /usr/local/lib/python3.7/dist-packages (from google-api-core<2dev,>=1.21.0->google-api-python-client>=1.2->PyDrive) (1.53.0)\n",
            "Requirement already satisfied: requests<3.0.0dev,>=2.18.0 in /usr/local/lib/python3.7/dist-packages (from google-api-core<2dev,>=1.21.0->google-api-python-client>=1.2->PyDrive) (2.23.0)\n",
            "Requirement already satisfied: setuptools>=40.3.0 in /usr/local/lib/python3.7/dist-packages (from google-api-core<2dev,>=1.21.0->google-api-python-client>=1.2->PyDrive) (57.2.0)\n",
            "Requirement already satisfied: packaging>=14.3 in /usr/local/lib/python3.7/dist-packages (from google-api-core<2dev,>=1.21.0->google-api-python-client>=1.2->PyDrive) (21.0)\n",
            "Requirement already satisfied: pytz in /usr/local/lib/python3.7/dist-packages (from google-api-core<2dev,>=1.21.0->google-api-python-client>=1.2->PyDrive) (2018.9)\n",
            "Requirement already satisfied: cachetools<5.0,>=2.0.0 in /usr/local/lib/python3.7/dist-packages (from google-auth>=1.16.0->google-api-python-client>=1.2->PyDrive) (4.2.2)\n",
            "Requirement already satisfied: rsa<5,>=3.1.4 in /usr/local/lib/python3.7/dist-packages (from google-auth>=1.16.0->google-api-python-client>=1.2->PyDrive) (4.7.2)\n",
            "Requirement already satisfied: pyasn1-modules>=0.2.1 in /usr/local/lib/python3.7/dist-packages (from google-auth>=1.16.0->google-api-python-client>=1.2->PyDrive) (0.2.8)\n",
            "Requirement already satisfied: pyasn1>=0.1.7 in /usr/local/lib/python3.7/dist-packages (from oauth2client>=4.0.0->PyDrive) (0.4.8)\n",
            "Requirement already satisfied: pyparsing>=2.0.2 in /usr/local/lib/python3.7/dist-packages (from packaging>=14.3->google-api-core<2dev,>=1.21.0->google-api-python-client>=1.2->PyDrive) (2.4.7)\n",
            "Requirement already satisfied: certifi>=2017.4.17 in /usr/local/lib/python3.7/dist-packages (from requests<3.0.0dev,>=2.18.0->google-api-core<2dev,>=1.21.0->google-api-python-client>=1.2->PyDrive) (2021.5.30)\n",
            "Requirement already satisfied: idna<3,>=2.5 in /usr/local/lib/python3.7/dist-packages (from requests<3.0.0dev,>=2.18.0->google-api-core<2dev,>=1.21.0->google-api-python-client>=1.2->PyDrive) (2.10)\n",
            "Requirement already satisfied: urllib3!=1.25.0,!=1.25.1,<1.26,>=1.21.1 in /usr/local/lib/python3.7/dist-packages (from requests<3.0.0dev,>=2.18.0->google-api-core<2dev,>=1.21.0->google-api-python-client>=1.2->PyDrive) (1.24.3)\n",
            "Requirement already satisfied: chardet<4,>=3.0.2 in /usr/local/lib/python3.7/dist-packages (from requests<3.0.0dev,>=2.18.0->google-api-core<2dev,>=1.21.0->google-api-python-client>=1.2->PyDrive) (3.0.4)\n"
          ],
          "name": "stdout"
        }
      ]
    },
    {
      "cell_type": "markdown",
      "metadata": {
        "id": "BrfdmAAR2dJM"
      },
      "source": [
        ""
      ]
    },
    {
      "cell_type": "code",
      "metadata": {
        "id": "FD-FpM3y1i36"
      },
      "source": [
        "import os\n",
        "from pydrive.auth import GoogleAuth\n",
        "from pydrive.drive import GoogleDrive\n",
        "from google.colab import auth\n",
        "from oauth2client.client import GoogleCredentials"
      ],
      "execution_count": 16,
      "outputs": []
    },
    {
      "cell_type": "code",
      "metadata": {
        "id": "Q2oJmzNW1n7x"
      },
      "source": [
        "auth.authenticate_user()"
      ],
      "execution_count": 17,
      "outputs": []
    },
    {
      "cell_type": "code",
      "metadata": {
        "id": "eZa3ZFom1rZR"
      },
      "source": [
        "gauth = GoogleAuth()"
      ],
      "execution_count": 18,
      "outputs": []
    },
    {
      "cell_type": "code",
      "metadata": {
        "id": "gzdPShzg12xp"
      },
      "source": [
        "gauth.credentials = GoogleCredentials.get_application_default()"
      ],
      "execution_count": 19,
      "outputs": []
    },
    {
      "cell_type": "code",
      "metadata": {
        "id": "C5Gcqhba15sr"
      },
      "source": [
        "drive = GoogleDrive(gauth)"
      ],
      "execution_count": 20,
      "outputs": []
    },
    {
      "cell_type": "code",
      "metadata": {
        "id": "bRN4v_nC18Fz"
      },
      "source": [
        ""
      ],
      "execution_count": null,
      "outputs": []
    },
    {
      "cell_type": "markdown",
      "metadata": {
        "id": "lNR_bnRy2Tvk"
      },
      "source": [
        "Step 4: Obtain your File’s ID\n",
        "\n",
        "Enable link sharing for the file you want to transfer. Copy the link. You may get a link such as this:"
      ]
    },
    {
      "cell_type": "code",
      "metadata": {
        "id": "MKhe6n9B3dvv"
      },
      "source": [
        "download = drive.CreateFile({'id': '177wVVqtlb7ZMLe4TQLkVMqk8E1WDREED'})\n",
        "download.GetContentFile('Set_22Jul_9AM_sin_missingvalues_todonormalizado11am_training.csv')"
      ],
      "execution_count": 22,
      "outputs": []
    },
    {
      "cell_type": "markdown",
      "metadata": {
        "id": "mv8BcXxY4U0H"
      },
      "source": [
        "Now move Set_22Jul_9AM_sin_missingvalues_todonormalizado11am_training to /Data"
      ]
    },
    {
      "cell_type": "markdown",
      "metadata": {
        "id": "27wMLz4V7EQC"
      },
      "source": [
        "##Data Exploration"
      ]
    },
    {
      "cell_type": "code",
      "metadata": {
        "id": "efR3mAcLB9yj"
      },
      "source": [
        "%matplotlib inline"
      ],
      "execution_count": 36,
      "outputs": []
    },
    {
      "cell_type": "code",
      "metadata": {
        "id": "WShW1t-D_Pbi",
        "outputId": "4020970e-b39e-4b6c-bc11-e8fa9d4ca890",
        "colab": {
          "base_uri": "https://localhost:8080/"
        }
      },
      "source": [
        "!source /content/em-prende-ml-solution/bin/activate; cd Src; cd utils; python DataExploration.py"
      ],
      "execution_count": 37,
      "outputs": [
        {
          "output_type": "stream",
          "text": [
            "Traceback (most recent call last):\n",
            "  File \"DataExploration.py\", line 3, in <module>\n",
            "    import matplotlib.pyplot as plt\n",
            "  File \"/content/em-prende-ml-solution/lib/python3.7/site-packages/matplotlib/pyplot.py\", line 2500, in <module>\n",
            "    switch_backend(rcParams[\"backend\"])\n",
            "  File \"/content/em-prende-ml-solution/lib/python3.7/site-packages/matplotlib/pyplot.py\", line 277, in switch_backend\n",
            "    class backend_mod(matplotlib.backend_bases._Backend):\n",
            "  File \"/content/em-prende-ml-solution/lib/python3.7/site-packages/matplotlib/pyplot.py\", line 278, in backend_mod\n",
            "    locals().update(vars(importlib.import_module(backend_name)))\n",
            "  File \"/usr/lib/python3.7/importlib/__init__.py\", line 127, in import_module\n",
            "    return _bootstrap._gcd_import(name[level:], package, level)\n",
            "ModuleNotFoundError: No module named 'ipykernel'\n"
          ],
          "name": "stdout"
        }
      ]
    },
    {
      "cell_type": "markdown",
      "metadata": {
        "id": "t8EjGk_tAGnC"
      },
      "source": [
        "##Data Preparation"
      ]
    },
    {
      "cell_type": "code",
      "metadata": {
        "colab": {
          "base_uri": "https://localhost:8080/"
        },
        "id": "byoIVVUn4cnX",
        "outputId": "7868db74-0a03-47bb-99c4-c3103acfaa6b"
      },
      "source": [
        "!source /content/em-prende-ml-solution/bin/activate; cd Src; cd utils; python ClassificationModelBuilder.py"
      ],
      "execution_count": 25,
      "outputs": [
        {
          "output_type": "stream",
          "text": [
            "Traceback (most recent call last):\n",
            "  File \"ClassificationModelBuilder.py\", line 14, in <module>\n",
            "    from .DataPreparation import *\n",
            "ImportError: attempted relative import with no known parent package\n"
          ],
          "name": "stdout"
        }
      ]
    },
    {
      "cell_type": "markdown",
      "metadata": {
        "id": "VwiXnsGw4dBq"
      },
      "source": [
        ""
      ]
    }
  ]
}