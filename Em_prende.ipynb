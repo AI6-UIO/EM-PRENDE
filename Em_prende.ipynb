{
  "nbformat": 4,
  "nbformat_minor": 0,
  "metadata": {
    "colab": {
      "name": "Em-prende.ipynb",
      "provenance": [],
      "collapsed_sections": [],
      "authorship_tag": "ABX9TyM/BqAf+gMacAR2vt9Ybz6B",
      "include_colab_link": true
    },
    "kernelspec": {
      "name": "python3",
      "display_name": "Python 3"
    },
    "language_info": {
      "name": "python"
    }
  },
  "cells": [
    {
      "cell_type": "markdown",
      "metadata": {
        "id": "view-in-github",
        "colab_type": "text"
      },
      "source": [
        "<a href=\"https://colab.research.google.com/github/mmendezs2021/Em-prende/blob/main/Em_prende.ipynb\" target=\"_parent\"><img src=\"https://colab.research.google.com/assets/colab-badge.svg\" alt=\"Open In Colab\"/></a>"
      ]
    },
    {
      "cell_type": "code",
      "metadata": {
        "id": "9T-9OTIQAfIz"
      },
      "source": [
        "import sys\n",
        "sys.path.append('../src')"
      ],
      "execution_count": 1,
      "outputs": []
    },
    {
      "cell_type": "code",
      "metadata": {
        "id": "vX3E0ttdEhop"
      },
      "source": [
        "from setuptools import setup, find_packages"
      ],
      "execution_count": 2,
      "outputs": []
    },
    {
      "cell_type": "markdown",
      "metadata": {
        "id": "47zQR5A7zfeW"
      },
      "source": [
        "Now we are going to pull from the gitHub repository some files with the scripts"
      ]
    },
    {
      "cell_type": "markdown",
      "metadata": {
        "id": "dXabACyC0XeB"
      },
      "source": [
        "The first file to clone is named \"application\".  The purpose of the script is to configure the Flask Server and API creation"
      ]
    },
    {
      "cell_type": "code",
      "metadata": {
        "id": "sJhf9nHDzmKb",
        "outputId": "5ce53ca0-e429-4e9d-aa24-5c102e4ced1e",
        "colab": {
          "base_uri": "https://localhost:8080/"
        }
      },
      "source": [
        "! git clone https://github.com/mmendezs2021/Em-prende.git"
      ],
      "execution_count": 22,
      "outputs": [
        {
          "output_type": "stream",
          "text": [
            "Cloning into 'Em-prende'...\n",
            "remote: Enumerating objects: 49, done.\u001b[K\n",
            "remote: Counting objects:   2% (1/49)\u001b[K\rremote: Counting objects:   4% (2/49)\u001b[K\rremote: Counting objects:   6% (3/49)\u001b[K\rremote: Counting objects:   8% (4/49)\u001b[K\rremote: Counting objects:  10% (5/49)\u001b[K\rremote: Counting objects:  12% (6/49)\u001b[K\rremote: Counting objects:  14% (7/49)\u001b[K\rremote: Counting objects:  16% (8/49)\u001b[K\rremote: Counting objects:  18% (9/49)\u001b[K\rremote: Counting objects:  20% (10/49)\u001b[K\rremote: Counting objects:  22% (11/49)\u001b[K\rremote: Counting objects:  24% (12/49)\u001b[K\rremote: Counting objects:  26% (13/49)\u001b[K\rremote: Counting objects:  28% (14/49)\u001b[K\rremote: Counting objects:  30% (15/49)\u001b[K\rremote: Counting objects:  32% (16/49)\u001b[K\rremote: Counting objects:  34% (17/49)\u001b[K\rremote: Counting objects:  36% (18/49)\u001b[K\rremote: Counting objects:  38% (19/49)\u001b[K\rremote: Counting objects:  40% (20/49)\u001b[K\rremote: Counting objects:  42% (21/49)\u001b[K\rremote: Counting objects:  44% (22/49)\u001b[K\rremote: Counting objects:  46% (23/49)\u001b[K\rremote: Counting objects:  48% (24/49)\u001b[K\rremote: Counting objects:  51% (25/49)\u001b[K\rremote: Counting objects:  53% (26/49)\u001b[K\rremote: Counting objects:  55% (27/49)\u001b[K\rremote: Counting objects:  57% (28/49)\u001b[K\rremote: Counting objects:  59% (29/49)\u001b[K\rremote: Counting objects:  61% (30/49)\u001b[K\rremote: Counting objects:  63% (31/49)\u001b[K\rremote: Counting objects:  65% (32/49)\u001b[K\rremote: Counting objects:  67% (33/49)\u001b[K\rremote: Counting objects:  69% (34/49)\u001b[K\rremote: Counting objects:  71% (35/49)\u001b[K\rremote: Counting objects:  73% (36/49)\u001b[K\rremote: Counting objects:  75% (37/49)\u001b[K\rremote: Counting objects:  77% (38/49)\u001b[K\rremote: Counting objects:  79% (39/49)\u001b[K\rremote: Counting objects:  81% (40/49)\u001b[K\rremote: Counting objects:  83% (41/49)\u001b[K\rremote: Counting objects:  85% (42/49)\u001b[K\rremote: Counting objects:  87% (43/49)\u001b[K\rremote: Counting objects:  89% (44/49)\u001b[K\rremote: Counting objects:  91% (45/49)\u001b[K\rremote: Counting objects:  93% (46/49)\u001b[K\rremote: Counting objects:  95% (47/49)\u001b[K\rremote: Counting objects:  97% (48/49)\u001b[K\rremote: Counting objects: 100% (49/49)\u001b[K\rremote: Counting objects: 100% (49/49), done.\u001b[K\n",
            "remote: Compressing objects:   2% (1/42)\u001b[K\rremote: Compressing objects:   4% (2/42)\u001b[K\rremote: Compressing objects:   7% (3/42)\u001b[K\rremote: Compressing objects:   9% (4/42)\u001b[K\rremote: Compressing objects:  11% (5/42)\u001b[K\rremote: Compressing objects:  14% (6/42)\u001b[K\rremote: Compressing objects:  16% (7/42)\u001b[K\rremote: Compressing objects:  19% (8/42)\u001b[K\rremote: Compressing objects:  21% (9/42)\u001b[K\rremote: Compressing objects:  23% (10/42)\u001b[K\rremote: Compressing objects:  26% (11/42)\u001b[K\rremote: Compressing objects:  28% (12/42)\u001b[K\rremote: Compressing objects:  30% (13/42)\u001b[K\rremote: Compressing objects:  33% (14/42)\u001b[K\rremote: Compressing objects:  35% (15/42)\u001b[K\rremote: Compressing objects:  38% (16/42)\u001b[K\rremote: Compressing objects:  40% (17/42)\u001b[K\rremote: Compressing objects:  42% (18/42)\u001b[K\rremote: Compressing objects:  45% (19/42)\u001b[K\rremote: Compressing objects:  47% (20/42)\u001b[K\rremote: Compressing objects:  50% (21/42)\u001b[K\rremote: Compressing objects:  52% (22/42)\u001b[K\rremote: Compressing objects:  54% (23/42)\u001b[K\rremote: Compressing objects:  57% (24/42)\u001b[K\rremote: Compressing objects:  59% (25/42)\u001b[K\rremote: Compressing objects:  61% (26/42)\u001b[K\rremote: Compressing objects:  64% (27/42)\u001b[K\rremote: Compressing objects:  66% (28/42)\u001b[K\rremote: Compressing objects:  69% (29/42)\u001b[K\rremote: Compressing objects:  71% (30/42)\u001b[K\rremote: Compressing objects:  73% (31/42)\u001b[K\rremote: Compressing objects:  76% (32/42)\u001b[K\rremote: Compressing objects:  78% (33/42)\u001b[K\rremote: Compressing objects:  80% (34/42)\u001b[K\rremote: Compressing objects:  83% (35/42)\u001b[K\rremote: Compressing objects:  85% (36/42)\u001b[K\rremote: Compressing objects:  88% (37/42)\u001b[K\rremote: Compressing objects:  90% (38/42)\u001b[K\rremote: Compressing objects:  92% (39/42)\u001b[K\rremote: Compressing objects:  95% (40/42)\u001b[K\rremote: Compressing objects:  97% (41/42)\u001b[K\rremote: Compressing objects: 100% (42/42)\u001b[K\rremote: Compressing objects: 100% (42/42), done.\u001b[K\n",
            "remote: Total 49 (delta 13), reused 0 (delta 0), pack-reused 0\u001b[K\n",
            "Unpacking objects: 100% (49/49), done.\n"
          ],
          "name": "stdout"
        }
      ]
    },
    {
      "cell_type": "code",
      "metadata": {
        "id": "BRXZ8Ver8JuX",
        "outputId": "b5830dc6-cb12-4c03-8164-8151fe51a163",
        "colab": {
          "base_uri": "https://localhost:8080/"
        }
      },
      "source": [
        "%ls"
      ],
      "execution_count": 23,
      "outputs": [
        {
          "output_type": "stream",
          "text": [
            "\u001b[0m\u001b[01;34mData\u001b[0m/  \u001b[01;34mEm-prende\u001b[0m/  \u001b[01;34mem-prende-ml-solution\u001b[0m/  \u001b[01;34msample_data\u001b[0m/  \u001b[01;34mSrc\u001b[0m/\n"
          ],
          "name": "stdout"
        }
      ]
    },
    {
      "cell_type": "code",
      "metadata": {
        "id": "759auDU59hwt",
        "outputId": "98d087bf-35d2-488f-ec16-183c45e61dd2",
        "colab": {
          "base_uri": "https://localhost:8080/"
        }
      },
      "source": [
        "cd Em-prende/"
      ],
      "execution_count": 26,
      "outputs": [
        {
          "output_type": "stream",
          "text": [
            "/content/Em-prende\n"
          ],
          "name": "stdout"
        }
      ]
    },
    {
      "cell_type": "code",
      "metadata": {
        "id": "3XvvW_o09lfg"
      },
      "source": [
        "cp application.py ../"
      ],
      "execution_count": 27,
      "outputs": []
    },
    {
      "cell_type": "code",
      "metadata": {
        "colab": {
          "base_uri": "https://localhost:8080/"
        },
        "id": "GjEblYTMEzM3",
        "outputId": "86f6d2dd-0154-4990-bde5-f71bd2d0f6ca"
      },
      "source": [
        "!pip3 install virtualenv"
      ],
      "execution_count": 3,
      "outputs": [
        {
          "output_type": "stream",
          "text": [
            "Collecting virtualenv\n",
            "  Downloading virtualenv-20.6.0-py2.py3-none-any.whl (5.3 MB)\n",
            "\u001b[K     |████████████████████████████████| 5.3 MB 22.8 MB/s \n",
            "\u001b[?25hCollecting distlib<1,>=0.3.1\n",
            "  Downloading distlib-0.3.2-py2.py3-none-any.whl (338 kB)\n",
            "\u001b[K     |████████████████████████████████| 338 kB 55.8 MB/s \n",
            "\u001b[?25hCollecting backports.entry-points-selectable>=1.0.4\n",
            "  Downloading backports.entry_points_selectable-1.1.0-py2.py3-none-any.whl (6.2 kB)\n",
            "Requirement already satisfied: six<2,>=1.9.0 in /usr/local/lib/python3.7/dist-packages (from virtualenv) (1.15.0)\n",
            "Requirement already satisfied: filelock<4,>=3.0.0 in /usr/local/lib/python3.7/dist-packages (from virtualenv) (3.0.12)\n",
            "Collecting platformdirs<3,>=2\n",
            "  Downloading platformdirs-2.0.2-py2.py3-none-any.whl (10 kB)\n",
            "Requirement already satisfied: importlib-metadata>=0.12 in /usr/local/lib/python3.7/dist-packages (from virtualenv) (4.6.1)\n",
            "Requirement already satisfied: typing-extensions>=3.6.4 in /usr/local/lib/python3.7/dist-packages (from importlib-metadata>=0.12->virtualenv) (3.7.4.3)\n",
            "Requirement already satisfied: zipp>=0.5 in /usr/local/lib/python3.7/dist-packages (from importlib-metadata>=0.12->virtualenv) (3.5.0)\n",
            "Installing collected packages: platformdirs, distlib, backports.entry-points-selectable, virtualenv\n",
            "Successfully installed backports.entry-points-selectable-1.1.0 distlib-0.3.2 platformdirs-2.0.2 virtualenv-20.6.0\n"
          ],
          "name": "stdout"
        }
      ]
    },
    {
      "cell_type": "code",
      "metadata": {
        "colab": {
          "base_uri": "https://localhost:8080/"
        },
        "id": "FihLHZFJHRe1",
        "outputId": "dbc326c0-9196-4d91-b55e-09220d3b0c6a"
      },
      "source": [
        "!virtualenv em-prende-ml-solution"
      ],
      "execution_count": 4,
      "outputs": [
        {
          "output_type": "stream",
          "text": [
            "created virtual environment CPython3.7.11.final.0-64 in 778ms\n",
            "  creator CPython3Posix(dest=/content/em-prende-ml-solution, clear=False, no_vcs_ignore=False, global=False)\n",
            "  seeder FromAppData(download=False, pip=bundle, setuptools=bundle, wheel=bundle, via=copy, app_data_dir=/root/.local/share/virtualenv)\n",
            "    added seed packages: pip==21.1.3, setuptools==57.1.0, wheel==0.36.2\n",
            "  activators BashActivator,CShellActivator,FishActivator,PowerShellActivator,PythonActivator,XonshActivator\n"
          ],
          "name": "stdout"
        }
      ]
    },
    {
      "cell_type": "markdown",
      "metadata": {
        "id": "NsWQHm9qLbFC"
      },
      "source": [
        "Now, lets install some libraries in our virtual environment \"em-prende-ml-solution\""
      ]
    },
    {
      "cell_type": "code",
      "metadata": {
        "colab": {
          "base_uri": "https://localhost:8080/"
        },
        "id": "TaG3nS8W7fBi",
        "outputId": "6608d746-c774-4d87-e5c3-f792cc5db3ce"
      },
      "source": [
        "!source /content/em-prende-ml-solution/bin/activate; pip install dill Flask Jinja2 numpy pandas scikit-learn scipy sklearn xgboost matplotlib ipykernel"
      ],
      "execution_count": 5,
      "outputs": [
        {
          "output_type": "stream",
          "text": [
            "Collecting dill\n",
            "  Downloading dill-0.3.4-py2.py3-none-any.whl (86 kB)\n",
            "\u001b[?25l\r\u001b[K     |███▊                            | 10 kB 22.3 MB/s eta 0:00:01\r\u001b[K     |███████▌                        | 20 kB 26.9 MB/s eta 0:00:01\r\u001b[K     |███████████▎                    | 30 kB 30.6 MB/s eta 0:00:01\r\u001b[K     |███████████████                 | 40 kB 31.9 MB/s eta 0:00:01\r\u001b[K     |██████████████████▉             | 51 kB 34.9 MB/s eta 0:00:01\r\u001b[K     |██████████████████████▋         | 61 kB 33.0 MB/s eta 0:00:01\r\u001b[K     |██████████████████████████▍     | 71 kB 32.8 MB/s eta 0:00:01\r\u001b[K     |██████████████████████████████▏ | 81 kB 33.6 MB/s eta 0:00:01\r\u001b[K     |████████████████████████████████| 86 kB 3.5 MB/s \n",
            "\u001b[?25hCollecting Flask\n",
            "  Downloading Flask-2.0.1-py3-none-any.whl (94 kB)\n",
            "\u001b[?25l\r\u001b[K     |███▌                            | 10 kB 28.5 MB/s eta 0:00:01\r\u001b[K     |███████                         | 20 kB 33.7 MB/s eta 0:00:01\r\u001b[K     |██████████▍                     | 30 kB 36.3 MB/s eta 0:00:01\r\u001b[K     |█████████████▉                  | 40 kB 40.1 MB/s eta 0:00:01\r\u001b[K     |█████████████████▎              | 51 kB 41.5 MB/s eta 0:00:01\r\u001b[K     |████████████████████▊           | 61 kB 43.4 MB/s eta 0:00:01\r\u001b[K     |████████████████████████▏       | 71 kB 44.8 MB/s eta 0:00:01\r\u001b[K     |███████████████████████████▋    | 81 kB 45.8 MB/s eta 0:00:01\r\u001b[K     |███████████████████████████████ | 92 kB 46.7 MB/s eta 0:00:01\r\u001b[K     |████████████████████████████████| 94 kB 2.4 MB/s \n",
            "\u001b[?25hCollecting Jinja2\n",
            "  Downloading Jinja2-3.0.1-py3-none-any.whl (133 kB)\n",
            "\u001b[K     |████████████████████████████████| 133 kB 53.4 MB/s \n",
            "\u001b[?25hCollecting numpy\n",
            "  Downloading numpy-1.21.1-cp37-cp37m-manylinux_2_12_x86_64.manylinux2010_x86_64.whl (15.7 MB)\n",
            "\u001b[K     |████████████████████████████████| 15.7 MB 73 kB/s \n",
            "\u001b[?25hCollecting pandas\n",
            "  Downloading pandas-1.3.1-cp37-cp37m-manylinux_2_17_x86_64.manylinux2014_x86_64.whl (11.5 MB)\n",
            "\u001b[K     |████████████████████████████████| 11.5 MB 47.3 MB/s \n",
            "\u001b[?25hCollecting scikit-learn\n",
            "  Downloading scikit_learn-0.24.2-cp37-cp37m-manylinux2010_x86_64.whl (22.3 MB)\n",
            "\u001b[K     |████████████████████████████████| 22.3 MB 1.4 MB/s \n",
            "\u001b[?25hCollecting scipy\n",
            "  Downloading scipy-1.7.0-cp37-cp37m-manylinux_2_5_x86_64.manylinux1_x86_64.whl (28.5 MB)\n",
            "\u001b[K     |████████████████████████████████| 28.5 MB 31 kB/s \n",
            "\u001b[?25hCollecting sklearn\n",
            "  Downloading sklearn-0.0.tar.gz (1.1 kB)\n",
            "Collecting xgboost\n",
            "  Downloading xgboost-1.4.2-py3-none-manylinux2010_x86_64.whl (166.7 MB)\n",
            "\u001b[K     |████████████████████████████████| 166.7 MB 8.6 kB/s \n",
            "\u001b[?25hCollecting matplotlib\n",
            "  Downloading matplotlib-3.4.2-cp37-cp37m-manylinux1_x86_64.whl (10.3 MB)\n",
            "\u001b[K     |████████████████████████████████| 10.3 MB 35.7 MB/s \n",
            "\u001b[?25hCollecting ipykernel\n",
            "  Downloading ipykernel-6.0.3-py3-none-any.whl (122 kB)\n",
            "\u001b[K     |████████████████████████████████| 122 kB 59.9 MB/s \n",
            "\u001b[?25hCollecting Werkzeug>=2.0\n",
            "  Downloading Werkzeug-2.0.1-py3-none-any.whl (288 kB)\n",
            "\u001b[K     |████████████████████████████████| 288 kB 55.7 MB/s \n",
            "\u001b[?25hCollecting click>=7.1.2\n",
            "  Downloading click-8.0.1-py3-none-any.whl (97 kB)\n",
            "\u001b[K     |████████████████████████████████| 97 kB 5.9 MB/s \n",
            "\u001b[?25hCollecting itsdangerous>=2.0\n",
            "  Downloading itsdangerous-2.0.1-py3-none-any.whl (18 kB)\n",
            "Collecting MarkupSafe>=2.0\n",
            "  Downloading MarkupSafe-2.0.1-cp37-cp37m-manylinux2010_x86_64.whl (31 kB)\n",
            "Collecting importlib-metadata\n",
            "  Downloading importlib_metadata-4.6.1-py3-none-any.whl (17 kB)\n",
            "Collecting pytz>=2017.3\n",
            "  Downloading pytz-2021.1-py2.py3-none-any.whl (510 kB)\n",
            "\u001b[K     |████████████████████████████████| 510 kB 47.7 MB/s \n",
            "\u001b[?25hCollecting python-dateutil>=2.7.3\n",
            "  Downloading python_dateutil-2.8.2-py2.py3-none-any.whl (247 kB)\n",
            "\u001b[K     |████████████████████████████████| 247 kB 50.6 MB/s \n",
            "\u001b[?25hCollecting six>=1.5\n",
            "  Downloading six-1.16.0-py2.py3-none-any.whl (11 kB)\n",
            "Collecting threadpoolctl>=2.0.0\n",
            "  Downloading threadpoolctl-2.2.0-py3-none-any.whl (12 kB)\n",
            "Collecting joblib>=0.11\n",
            "  Downloading joblib-1.0.1-py3-none-any.whl (303 kB)\n",
            "\u001b[K     |████████████████████████████████| 303 kB 53.8 MB/s \n",
            "\u001b[?25hCollecting pillow>=6.2.0\n",
            "  Downloading Pillow-8.3.1-cp37-cp37m-manylinux_2_5_x86_64.manylinux1_x86_64.whl (3.0 MB)\n",
            "\u001b[K     |████████████████████████████████| 3.0 MB 25.0 MB/s \n",
            "\u001b[?25hCollecting kiwisolver>=1.0.1\n",
            "  Downloading kiwisolver-1.3.1-cp37-cp37m-manylinux1_x86_64.whl (1.1 MB)\n",
            "\u001b[K     |████████████████████████████████| 1.1 MB 46.8 MB/s \n",
            "\u001b[?25hCollecting pyparsing>=2.2.1\n",
            "  Downloading pyparsing-2.4.7-py2.py3-none-any.whl (67 kB)\n",
            "\u001b[K     |████████████████████████████████| 67 kB 5.5 MB/s \n",
            "\u001b[?25hCollecting cycler>=0.10\n",
            "  Downloading cycler-0.10.0-py2.py3-none-any.whl (6.5 kB)\n",
            "Collecting matplotlib-inline<0.2.0,>=0.1.0\n",
            "  Downloading matplotlib_inline-0.1.2-py3-none-any.whl (8.2 kB)\n",
            "Collecting tornado<7.0,>=4.2\n",
            "  Downloading tornado-6.1-cp37-cp37m-manylinux2010_x86_64.whl (428 kB)\n",
            "\u001b[K     |████████████████████████████████| 428 kB 45.3 MB/s \n",
            "\u001b[?25hCollecting ipython<8.0,>=7.23.1\n",
            "  Downloading ipython-7.25.0-py3-none-any.whl (786 kB)\n",
            "\u001b[K     |████████████████████████████████| 786 kB 40.8 MB/s \n",
            "\u001b[?25hCollecting jupyter-client<7.0\n",
            "  Downloading jupyter_client-6.1.12-py3-none-any.whl (112 kB)\n",
            "\u001b[K     |████████████████████████████████| 112 kB 53.9 MB/s \n",
            "\u001b[?25hCollecting debugpy<2.0,>=1.0.0\n",
            "  Downloading debugpy-1.4.1-cp37-cp37m-manylinux2014_x86_64.whl (4.6 MB)\n",
            "\u001b[K     |████████████████████████████████| 4.6 MB 41.2 MB/s \n",
            "\u001b[?25hCollecting importlib-metadata\n",
            "  Downloading importlib_metadata-3.10.1-py3-none-any.whl (14 kB)\n",
            "Collecting traitlets<6.0,>=4.1.0\n",
            "  Downloading traitlets-5.0.5-py3-none-any.whl (100 kB)\n",
            "\u001b[K     |████████████████████████████████| 100 kB 7.1 MB/s \n",
            "\u001b[?25hCollecting typing-extensions>=3.6.4\n",
            "  Downloading typing_extensions-3.10.0.0-py3-none-any.whl (26 kB)\n",
            "Collecting zipp>=0.5\n",
            "  Downloading zipp-3.5.0-py3-none-any.whl (5.7 kB)\n",
            "Collecting pickleshare\n",
            "  Downloading pickleshare-0.7.5-py2.py3-none-any.whl (6.9 kB)\n",
            "Requirement already satisfied: setuptools>=18.5 in ./em-prende-ml-solution/lib/python3.7/site-packages (from ipython<8.0,>=7.23.1->ipykernel) (57.1.0)\n",
            "Collecting jedi>=0.16\n",
            "  Downloading jedi-0.18.0-py2.py3-none-any.whl (1.4 MB)\n",
            "\u001b[K     |████████████████████████████████| 1.4 MB 30.8 MB/s \n",
            "\u001b[?25hCollecting prompt-toolkit!=3.0.0,!=3.0.1,<3.1.0,>=2.0.0\n",
            "  Downloading prompt_toolkit-3.0.19-py3-none-any.whl (368 kB)\n",
            "\u001b[K     |████████████████████████████████| 368 kB 47.2 MB/s \n",
            "\u001b[?25hCollecting pexpect>4.3\n",
            "  Downloading pexpect-4.8.0-py2.py3-none-any.whl (59 kB)\n",
            "\u001b[K     |████████████████████████████████| 59 kB 5.5 MB/s \n",
            "\u001b[?25hCollecting decorator\n",
            "  Downloading decorator-5.0.9-py3-none-any.whl (8.9 kB)\n",
            "Collecting backcall\n",
            "  Downloading backcall-0.2.0-py2.py3-none-any.whl (11 kB)\n",
            "Collecting pygments\n",
            "  Downloading Pygments-2.9.0-py3-none-any.whl (1.0 MB)\n",
            "\u001b[K     |████████████████████████████████| 1.0 MB 40.0 MB/s \n",
            "\u001b[?25hCollecting parso<0.9.0,>=0.8.0\n",
            "  Downloading parso-0.8.2-py2.py3-none-any.whl (94 kB)\n",
            "\u001b[K     |████████████████████████████████| 94 kB 2.5 MB/s \n",
            "\u001b[?25hCollecting jupyter-core>=4.6.0\n",
            "  Downloading jupyter_core-4.7.1-py3-none-any.whl (82 kB)\n",
            "\u001b[K     |████████████████████████████████| 82 kB 1.1 MB/s \n",
            "\u001b[?25hCollecting pyzmq>=13\n",
            "  Downloading pyzmq-22.1.0-cp37-cp37m-manylinux1_x86_64.whl (1.1 MB)\n",
            "\u001b[K     |████████████████████████████████| 1.1 MB 20.2 MB/s \n",
            "\u001b[?25hCollecting ptyprocess>=0.5\n",
            "  Downloading ptyprocess-0.7.0-py2.py3-none-any.whl (13 kB)\n",
            "Collecting wcwidth\n",
            "  Downloading wcwidth-0.2.5-py2.py3-none-any.whl (30 kB)\n",
            "Collecting ipython-genutils\n",
            "  Downloading ipython_genutils-0.2.0-py2.py3-none-any.whl (26 kB)\n",
            "Building wheels for collected packages: sklearn\n",
            "  Building wheel for sklearn (setup.py) ... \u001b[?25l\u001b[?25hdone\n",
            "  Created wheel for sklearn: filename=sklearn-0.0-py2.py3-none-any.whl size=1309 sha256=9ca4d482f4fd0db6344faf61265768f4ef72b59176de2ac7a09efff646555279\n",
            "  Stored in directory: /root/.cache/pip/wheels/46/ef/c3/157e41f5ee1372d1be90b09f74f82b10e391eaacca8f22d33e\n",
            "Successfully built sklearn\n",
            "Installing collected packages: ipython-genutils, zipp, wcwidth, typing-extensions, traitlets, six, ptyprocess, parso, numpy, tornado, threadpoolctl, scipy, pyzmq, python-dateutil, pygments, prompt-toolkit, pickleshare, pexpect, matplotlib-inline, MarkupSafe, jupyter-core, joblib, jedi, importlib-metadata, decorator, backcall, Werkzeug, scikit-learn, pytz, pyparsing, pillow, kiwisolver, jupyter-client, Jinja2, itsdangerous, ipython, debugpy, cycler, click, xgboost, sklearn, pandas, matplotlib, ipykernel, Flask, dill\n",
            "Successfully installed Flask-2.0.1 Jinja2-3.0.1 MarkupSafe-2.0.1 Werkzeug-2.0.1 backcall-0.2.0 click-8.0.1 cycler-0.10.0 debugpy-1.4.1 decorator-5.0.9 dill-0.3.4 importlib-metadata-3.10.1 ipykernel-6.0.3 ipython-7.25.0 ipython-genutils-0.2.0 itsdangerous-2.0.1 jedi-0.18.0 joblib-1.0.1 jupyter-client-6.1.12 jupyter-core-4.7.1 kiwisolver-1.3.1 matplotlib-3.4.2 matplotlib-inline-0.1.2 numpy-1.21.1 pandas-1.3.1 parso-0.8.2 pexpect-4.8.0 pickleshare-0.7.5 pillow-8.3.1 prompt-toolkit-3.0.19 ptyprocess-0.7.0 pygments-2.9.0 pyparsing-2.4.7 python-dateutil-2.8.2 pytz-2021.1 pyzmq-22.1.0 scikit-learn-0.24.2 scipy-1.7.0 six-1.16.0 sklearn-0.0 threadpoolctl-2.2.0 tornado-6.1 traitlets-5.0.5 typing-extensions-3.10.0.0 wcwidth-0.2.5 xgboost-1.4.2 zipp-3.5.0\n"
          ],
          "name": "stdout"
        }
      ]
    },
    {
      "cell_type": "markdown",
      "metadata": {
        "id": "LXTySrJaLNPC"
      },
      "source": [
        "The following line shows all packages installed in our virtual environment"
      ]
    },
    {
      "cell_type": "code",
      "metadata": {
        "colab": {
          "base_uri": "https://localhost:8080/"
        },
        "id": "OTse3UDnLHcu",
        "outputId": "9c285ded-c535-4cca-b436-78349325d500"
      },
      "source": [
        "!source /content/theanoEnv/bin/activate; pip3 list "
      ],
      "execution_count": 6,
      "outputs": [
        {
          "output_type": "stream",
          "text": [
            "/bin/bash: /content/theanoEnv/bin/activate: No such file or directory\n",
            "Package                           Version\n",
            "--------------------------------- -------------------\n",
            "absl-py                           0.12.0\n",
            "alabaster                         0.7.12\n",
            "albumentations                    0.1.12\n",
            "altair                            4.1.0\n",
            "appdirs                           1.4.4\n",
            "argon2-cffi                       20.1.0\n",
            "arviz                             0.11.2\n",
            "astor                             0.8.1\n",
            "astropy                           4.2.1\n",
            "astunparse                        1.6.3\n",
            "async-generator                   1.10\n",
            "atari-py                          0.2.9\n",
            "atomicwrites                      1.4.0\n",
            "attrs                             21.2.0\n",
            "audioread                         2.1.9\n",
            "autograd                          1.3\n",
            "Babel                             2.9.1\n",
            "backcall                          0.2.0\n",
            "backports.entry-points-selectable 1.1.0\n",
            "beautifulsoup4                    4.6.3\n",
            "bleach                            3.3.0\n",
            "blis                              0.4.1\n",
            "bokeh                             2.3.3\n",
            "Bottleneck                        1.3.2\n",
            "branca                            0.4.2\n",
            "bs4                               0.0.1\n",
            "CacheControl                      0.12.6\n",
            "cached-property                   1.5.2\n",
            "cachetools                        4.2.2\n",
            "catalogue                         1.0.0\n",
            "certifi                           2021.5.30\n",
            "cffi                              1.14.6\n",
            "cftime                            1.5.0\n",
            "chardet                           3.0.4\n",
            "charset-normalizer                2.0.2\n",
            "click                             7.1.2\n",
            "cloudpickle                       1.3.0\n",
            "cmake                             3.12.0\n",
            "cmdstanpy                         0.9.5\n",
            "colorcet                          2.0.6\n",
            "colorlover                        0.3.0\n",
            "community                         1.0.0b1\n",
            "contextlib2                       0.5.5\n",
            "convertdate                       2.3.2\n",
            "coverage                          3.7.1\n",
            "coveralls                         0.5\n",
            "crcmod                            1.7\n",
            "cufflinks                         0.17.3\n",
            "cvxopt                            1.2.6\n",
            "cvxpy                             1.0.31\n",
            "cycler                            0.10.0\n",
            "cymem                             2.0.5\n",
            "Cython                            0.29.23\n",
            "daft                              0.0.4\n",
            "dask                              2.12.0\n",
            "datascience                       0.10.6\n",
            "debugpy                           1.0.0\n",
            "decorator                         4.4.2\n",
            "defusedxml                        0.7.1\n",
            "descartes                         1.1.0\n",
            "dill                              0.3.4\n",
            "distlib                           0.3.2\n",
            "distributed                       1.25.3\n",
            "dlib                              19.18.0\n",
            "dm-tree                           0.1.6\n",
            "docopt                            0.6.2\n",
            "docutils                          0.17.1\n",
            "dopamine-rl                       1.0.5\n",
            "earthengine-api                   0.1.272\n",
            "easydict                          1.9\n",
            "ecos                              2.0.7.post1\n",
            "editdistance                      0.5.3\n",
            "en-core-web-sm                    2.2.5\n",
            "entrypoints                       0.3\n",
            "ephem                             4.0.0.2\n",
            "et-xmlfile                        1.1.0\n",
            "fa2                               0.3.5\n",
            "fastai                            1.0.61\n",
            "fastdtw                           0.3.4\n",
            "fastprogress                      1.0.0\n",
            "fastrlock                         0.6\n",
            "fbprophet                         0.7.1\n",
            "feather-format                    0.4.1\n",
            "filelock                          3.0.12\n",
            "firebase-admin                    4.4.0\n",
            "fix-yahoo-finance                 0.0.22\n",
            "Flask                             1.1.4\n",
            "flatbuffers                       1.12\n",
            "folium                            0.8.3\n",
            "future                            0.16.0\n",
            "gast                              0.4.0\n",
            "GDAL                              2.2.2\n",
            "gdown                             3.6.4\n",
            "gensim                            3.6.0\n",
            "geographiclib                     1.52\n",
            "geopy                             1.17.0\n",
            "gin-config                        0.4.0\n",
            "glob2                             0.7\n",
            "google                            2.0.3\n",
            "google-api-core                   1.26.3\n",
            "google-api-python-client          1.12.8\n",
            "google-auth                       1.32.1\n",
            "google-auth-httplib2              0.0.4\n",
            "google-auth-oauthlib              0.4.4\n",
            "google-cloud-bigquery             1.21.0\n",
            "google-cloud-bigquery-storage     1.1.0\n",
            "google-cloud-core                 1.0.3\n",
            "google-cloud-datastore            1.8.0\n",
            "google-cloud-firestore            1.7.0\n",
            "google-cloud-language             1.2.0\n",
            "google-cloud-storage              1.18.1\n",
            "google-cloud-translate            1.5.0\n",
            "google-colab                      1.0.0\n",
            "google-pasta                      0.2.0\n",
            "google-resumable-media            0.4.1\n",
            "googleapis-common-protos          1.53.0\n",
            "googledrivedownloader             0.4\n",
            "graphviz                          0.10.1\n",
            "greenlet                          1.1.0\n",
            "grpcio                            1.34.1\n",
            "gspread                           3.0.1\n",
            "gspread-dataframe                 3.0.8\n",
            "gym                               0.17.3\n",
            "h5py                              3.1.0\n",
            "HeapDict                          1.0.1\n",
            "hijri-converter                   2.1.3\n",
            "holidays                          0.10.5.2\n",
            "holoviews                         1.14.4\n",
            "html5lib                          1.0.1\n",
            "httpimport                        0.5.18\n",
            "httplib2                          0.17.4\n",
            "httplib2shim                      0.0.3\n",
            "humanize                          0.5.1\n",
            "hyperopt                          0.1.2\n",
            "ideep4py                          2.0.0.post3\n",
            "idna                              2.10\n",
            "imageio                           2.4.1\n",
            "imagesize                         1.2.0\n",
            "imbalanced-learn                  0.4.3\n",
            "imblearn                          0.0\n",
            "imgaug                            0.2.9\n",
            "importlib-metadata                4.6.1\n",
            "importlib-resources               5.2.0\n",
            "imutils                           0.5.4\n",
            "inflect                           2.1.0\n",
            "iniconfig                         1.1.1\n",
            "install                           1.3.4\n",
            "intel-openmp                      2021.3.0\n",
            "intervaltree                      2.1.0\n",
            "ipykernel                         4.10.1\n",
            "ipython                           5.5.0\n",
            "ipython-genutils                  0.2.0\n",
            "ipython-sql                       0.3.9\n",
            "ipywidgets                        7.6.3\n",
            "itsdangerous                      1.1.0\n",
            "jax                               0.2.17\n",
            "jaxlib                            0.1.69+cuda110\n",
            "jdcal                             1.4.1\n",
            "jedi                              0.18.0\n",
            "jieba                             0.42.1\n",
            "Jinja2                            2.11.3\n",
            "joblib                            1.0.1\n",
            "jpeg4py                           0.1.4\n",
            "jsonschema                        2.6.0\n",
            "jupyter                           1.0.0\n",
            "jupyter-client                    5.3.5\n",
            "jupyter-console                   5.2.0\n",
            "jupyter-core                      4.7.1\n",
            "jupyterlab-pygments               0.1.2\n",
            "jupyterlab-widgets                1.0.0\n",
            "kaggle                            1.5.12\n",
            "kapre                             0.3.5\n",
            "Keras                             2.4.3\n",
            "keras-nightly                     2.5.0.dev2021032900\n",
            "Keras-Preprocessing               1.1.2\n",
            "keras-vis                         0.4.1\n",
            "kiwisolver                        1.3.1\n",
            "korean-lunar-calendar             0.2.1\n",
            "librosa                           0.8.1\n",
            "lightgbm                          2.2.3\n",
            "llvmlite                          0.34.0\n",
            "lmdb                              0.99\n",
            "LunarCalendar                     0.0.9\n",
            "lxml                              4.2.6\n",
            "Markdown                          3.3.4\n",
            "MarkupSafe                        2.0.1\n",
            "matplotlib                        3.2.2\n",
            "matplotlib-inline                 0.1.2\n",
            "matplotlib-venn                   0.11.6\n",
            "missingno                         0.5.0\n",
            "mistune                           0.8.4\n",
            "mizani                            0.6.0\n",
            "mkl                               2019.0\n",
            "mlxtend                           0.14.0\n",
            "more-itertools                    8.8.0\n",
            "moviepy                           0.2.3.5\n",
            "mpmath                            1.2.1\n",
            "msgpack                           1.0.2\n",
            "multiprocess                      0.70.12.2\n",
            "multitasking                      0.0.9\n",
            "murmurhash                        1.0.5\n",
            "music21                           5.5.0\n",
            "natsort                           5.5.0\n",
            "nbclient                          0.5.3\n",
            "nbconvert                         5.6.1\n",
            "nbformat                          5.1.3\n",
            "nest-asyncio                      1.5.1\n",
            "netCDF4                           1.5.7\n",
            "networkx                          2.5.1\n",
            "nibabel                           3.0.2\n",
            "nltk                              3.2.5\n",
            "notebook                          5.3.1\n",
            "numba                             0.51.2\n",
            "numexpr                           2.7.3\n",
            "numpy                             1.19.5\n",
            "nvidia-ml-py3                     7.352.0\n",
            "oauth2client                      4.1.3\n",
            "oauthlib                          3.1.1\n",
            "okgrade                           0.4.3\n",
            "opencv-contrib-python             4.1.2.30\n",
            "opencv-python                     4.1.2.30\n",
            "openpyxl                          2.5.9\n",
            "opt-einsum                        3.3.0\n",
            "osqp                              0.6.2.post0\n",
            "packaging                         21.0\n",
            "palettable                        3.3.0\n",
            "pandas                            1.1.5\n",
            "pandas-datareader                 0.9.0\n",
            "pandas-gbq                        0.13.3\n",
            "pandas-profiling                  1.4.1\n",
            "pandocfilters                     1.4.3\n",
            "panel                             0.11.3\n",
            "param                             1.11.1\n",
            "parso                             0.8.2\n",
            "pathlib                           1.0.1\n",
            "patsy                             0.5.1\n",
            "pexpect                           4.8.0\n",
            "pickleshare                       0.7.5\n",
            "Pillow                            7.1.2\n",
            "pip                               21.1.3\n",
            "pip-tools                         4.5.1\n",
            "plac                              1.1.3\n",
            "platformdirs                      2.0.2\n",
            "plotly                            4.4.1\n",
            "plotnine                          0.6.0\n",
            "pluggy                            0.7.1\n",
            "pooch                             1.4.0\n",
            "portpicker                        1.3.9\n",
            "prefetch-generator                1.0.1\n",
            "preshed                           3.0.5\n",
            "prettytable                       2.1.0\n",
            "progressbar2                      3.38.0\n",
            "prometheus-client                 0.11.0\n",
            "promise                           2.3\n",
            "prompt-toolkit                    1.0.18\n",
            "protobuf                          3.17.3\n",
            "psutil                            5.4.8\n",
            "psycopg2                          2.7.6.1\n",
            "ptyprocess                        0.7.0\n",
            "py                                1.10.0\n",
            "pyarrow                           3.0.0\n",
            "pyasn1                            0.4.8\n",
            "pyasn1-modules                    0.2.8\n",
            "pycocotools                       2.0.2\n",
            "pycparser                         2.20\n",
            "pyct                              0.4.8\n",
            "pydata-google-auth                1.2.0\n",
            "pydot                             1.3.0\n",
            "pydot-ng                          2.0.0\n",
            "pydotplus                         2.0.2\n",
            "PyDrive                           1.3.1\n",
            "pyemd                             0.5.1\n",
            "pyerfa                            2.0.0\n",
            "pyglet                            1.5.0\n",
            "Pygments                          2.6.1\n",
            "pygobject                         3.26.1\n",
            "pymc3                             3.11.2\n",
            "PyMeeus                           0.5.11\n",
            "pymongo                           3.11.4\n",
            "pymystem3                         0.2.0\n",
            "PyOpenGL                          3.1.5\n",
            "pyparsing                         2.4.7\n",
            "pyrsistent                        0.18.0\n",
            "pysndfile                         1.3.8\n",
            "PySocks                           1.7.1\n",
            "pystan                            2.19.1.1\n",
            "pytest                            3.6.4\n",
            "python-apt                        0.0.0\n",
            "python-chess                      0.23.11\n",
            "python-dateutil                   2.8.1\n",
            "python-louvain                    0.15\n",
            "python-slugify                    5.0.2\n",
            "python-utils                      2.5.6\n",
            "pytz                              2018.9\n",
            "pyviz-comms                       2.1.0\n",
            "PyWavelets                        1.1.1\n",
            "PyYAML                            3.13\n",
            "pyzmq                             22.1.0\n",
            "qdldl                             0.1.5.post0\n",
            "qtconsole                         5.1.1\n",
            "QtPy                              1.9.0\n",
            "regex                             2019.12.20\n",
            "requests                          2.23.0\n",
            "requests-oauthlib                 1.3.0\n",
            "resampy                           0.2.2\n",
            "retrying                          1.3.3\n",
            "rpy2                              3.4.5\n",
            "rsa                               4.7.2\n",
            "scikit-image                      0.16.2\n",
            "scikit-learn                      0.22.2.post1\n",
            "scipy                             1.4.1\n",
            "screen-resolution-extra           0.0.0\n",
            "scs                               2.1.4\n",
            "seaborn                           0.11.1\n",
            "semver                            2.13.0\n",
            "Send2Trash                        1.7.1\n",
            "setuptools                        57.2.0\n",
            "setuptools-git                    1.2\n",
            "Shapely                           1.7.1\n",
            "simplegeneric                     0.8.1\n",
            "six                               1.15.0\n",
            "sklearn                           0.0\n",
            "sklearn-pandas                    1.8.0\n",
            "smart-open                        5.1.0\n",
            "snowballstemmer                   2.1.0\n",
            "sortedcontainers                  2.4.0\n",
            "SoundFile                         0.10.3.post1\n",
            "spacy                             2.2.4\n",
            "Sphinx                            1.8.5\n",
            "sphinxcontrib-serializinghtml     1.1.5\n",
            "sphinxcontrib-websupport          1.2.4\n",
            "SQLAlchemy                        1.4.20\n",
            "sqlparse                          0.4.1\n",
            "srsly                             1.0.5\n",
            "statsmodels                       0.10.2\n",
            "sympy                             1.7.1\n",
            "tables                            3.4.4\n",
            "tabulate                          0.8.9\n",
            "tblib                             1.7.0\n",
            "tensorboard                       2.5.0\n",
            "tensorboard-data-server           0.6.1\n",
            "tensorboard-plugin-wit            1.8.0\n",
            "tensorflow                        2.5.0\n",
            "tensorflow-datasets               4.0.1\n",
            "tensorflow-estimator              2.5.0\n",
            "tensorflow-gcs-config             2.5.0\n",
            "tensorflow-hub                    0.12.0\n",
            "tensorflow-metadata               1.1.0\n",
            "tensorflow-probability            0.13.0\n",
            "termcolor                         1.1.0\n",
            "terminado                         0.10.1\n",
            "testpath                          0.5.0\n",
            "text-unidecode                    1.3\n",
            "textblob                          0.15.3\n",
            "Theano-PyMC                       1.1.2\n",
            "thinc                             7.4.0\n",
            "tifffile                          2021.7.2\n",
            "toml                              0.10.2\n",
            "toolz                             0.11.1\n",
            "torch                             1.9.0+cu102\n",
            "torchsummary                      1.5.1\n",
            "torchtext                         0.10.0\n",
            "torchvision                       0.10.0+cu102\n",
            "tornado                           5.1.1\n",
            "tqdm                              4.41.1\n",
            "traitlets                         5.0.5\n",
            "tweepy                            3.10.0\n",
            "typeguard                         2.7.1\n",
            "typing-extensions                 3.7.4.3\n",
            "tzlocal                           1.5.1\n",
            "uritemplate                       3.0.1\n",
            "urllib3                           1.24.3\n",
            "vega-datasets                     0.9.0\n",
            "virtualenv                        20.6.0\n",
            "wasabi                            0.8.2\n",
            "wcwidth                           0.2.5\n",
            "webencodings                      0.5.1\n",
            "Werkzeug                          1.0.1\n",
            "wheel                             0.36.2\n",
            "widgetsnbextension                3.5.1\n",
            "wordcloud                         1.5.0\n",
            "wrapt                             1.12.1\n",
            "xarray                            0.18.2\n",
            "xgboost                           0.90\n",
            "xkit                              0.0.0\n",
            "xlrd                              1.1.0\n",
            "xlwt                              1.3.0\n",
            "yellowbrick                       0.9.1\n",
            "zict                              2.0.0\n",
            "zipp                              3.5.0\n"
          ],
          "name": "stdout"
        }
      ]
    },
    {
      "cell_type": "markdown",
      "metadata": {
        "id": "eKw7Wr_nMoNb"
      },
      "source": [
        "Now, lets built or file architecture within the virtual environment"
      ]
    },
    {
      "cell_type": "code",
      "metadata": {
        "id": "Y9oiLPxdLrpK"
      },
      "source": [
        "!source /content/em-prende-ml-solution/bin/activate; mkdir Data\n",
        "!source /content/em-prende-ml-solution/bin/activate; mkdir Src\n",
        "!source /content/em-prende-ml-solution/bin/activate; cd Src; mkdir api\n",
        "!source /content/em-prende-ml-solution/bin/activate; cd Src; mkdir templates\n",
        "#!source /content/em-prende-ml-solution/bin/activate; cd Src; cd api; mkdir predict\n",
        "!source /content/em-prende-ml-solution/bin/activate; echo \"hello world\" > Src/templates/index.html"
      ],
      "execution_count": 7,
      "outputs": []
    },
    {
      "cell_type": "code",
      "metadata": {
        "id": "5F0NAdY1NQS2"
      },
      "source": [
        "#If you want to remove some directory you can use the following line just change the name of the directory\n",
        "#!source /content/em-prende-ml-solution/bin/activate; cd Src; rmdir predict"
      ],
      "execution_count": 8,
      "outputs": []
    },
    {
      "cell_type": "code",
      "metadata": {
        "colab": {
          "base_uri": "https://localhost:8080/"
        },
        "id": "WF_qQ2UMNZaX",
        "outputId": "272f305c-5a38-430a-c210-948f72349053"
      },
      "source": [
        "!source /content/em-prende-ml-solution/bin/activate; ls"
      ],
      "execution_count": 9,
      "outputs": [
        {
          "output_type": "stream",
          "text": [
            "Data  em-prende-ml-solution  sample_data  Src\n"
          ],
          "name": "stdout"
        }
      ]
    },
    {
      "cell_type": "code",
      "metadata": {
        "colab": {
          "base_uri": "https://localhost:8080/"
        },
        "id": "_6lQmLAkL2Zb",
        "outputId": "0fdd7486-5629-423b-f07a-956fef1ae506"
      },
      "source": [
        "!source /content/em-prende-ml-solution/bin/activate; cd Src; ls"
      ],
      "execution_count": 10,
      "outputs": [
        {
          "output_type": "stream",
          "text": [
            "api  templates\n"
          ],
          "name": "stdout"
        }
      ]
    },
    {
      "cell_type": "markdown",
      "metadata": {
        "id": "31iQTCjbOPVW"
      },
      "source": [
        "Create an empty file for the code \"predict.py\"\n",
        "Then you need to copy the file with the actual code for the program to run"
      ]
    },
    {
      "cell_type": "code",
      "metadata": {
        "id": "DKyZfI89NyAY"
      },
      "source": [
        "!source /content/em-prende-ml-solution/bin/activate; cd Src/api; touch predict.py"
      ],
      "execution_count": 11,
      "outputs": []
    },
    {
      "cell_type": "markdown",
      "metadata": {
        "id": "7Pd16J-JPOep"
      },
      "source": [
        "The following code must go into the file \"predict.py\"\n",
        "from flask import Blueprint, jsonify, request\n",
        "predict_api = Blueprint(“predict_api”, __name__)@predict_api.route(‘/predict’, methods=[‘POST’])\n",
        "def apicall():\n",
        "    return (‘It works ;)’)"
      ]
    },
    {
      "cell_type": "code",
      "metadata": {
        "colab": {
          "base_uri": "https://localhost:8080/"
        },
        "id": "G8gxagpgscZC",
        "outputId": "a9679802-977a-4c28-9ec6-fda24802d63e"
      },
      "source": [
        "!source /content/em-prende-ml-solution/bin/activate; python application.py\n"
      ],
      "execution_count": 12,
      "outputs": [
        {
          "output_type": "stream",
          "text": [
            "python: can't open file 'application.py': [Errno 2] No such file or directory\n"
          ],
          "name": "stdout"
        }
      ]
    },
    {
      "cell_type": "code",
      "metadata": {
        "id": "17yhlrCIsmk_"
      },
      "source": [
        "!source /content/em-prende-ml-solution/bin/activate; cd Src; mkdir utils"
      ],
      "execution_count": 13,
      "outputs": []
    },
    {
      "cell_type": "code",
      "metadata": {
        "colab": {
          "base_uri": "https://localhost:8080/"
        },
        "id": "0JruUhAksrcP",
        "outputId": "70da7549-5f55-4df7-a230-31b1090d3cd2"
      },
      "source": [
        "!source /content/em-prende-ml-solution/bin/activate; cd Src; ls"
      ],
      "execution_count": 14,
      "outputs": [
        {
          "output_type": "stream",
          "text": [
            "api  templates\tutils\n"
          ],
          "name": "stdout"
        }
      ]
    },
    {
      "cell_type": "markdown",
      "metadata": {
        "id": "tRLb8Dkk1Jku"
      },
      "source": [
        "Now we are going to use a file that we cloned from GitHub. We are going to move the script to the \"utils\" folder the code to run Classification Models"
      ]
    },
    {
      "cell_type": "code",
      "metadata": {
        "id": "105YEvkz-lPD",
        "outputId": "62daebc0-3be8-405f-ea86-742889bfd29c",
        "colab": {
          "base_uri": "https://localhost:8080/"
        }
      },
      "source": [
        "cd /content/"
      ],
      "execution_count": 30,
      "outputs": [
        {
          "output_type": "stream",
          "text": [
            "/content\n"
          ],
          "name": "stdout"
        }
      ]
    },
    {
      "cell_type": "code",
      "metadata": {
        "id": "J-AORIRK-2ak",
        "outputId": "e1f46b35-24d2-450d-fb25-668b633a44b5",
        "colab": {
          "base_uri": "https://localhost:8080/"
        }
      },
      "source": [
        "ls"
      ],
      "execution_count": 33,
      "outputs": [
        {
          "output_type": "stream",
          "text": [
            "application.py  \u001b[0m\u001b[01;34mData\u001b[0m/  \u001b[01;34mEm-prende\u001b[0m/  \u001b[01;34mem-prende-ml-solution\u001b[0m/  \u001b[01;34msample_data\u001b[0m/  \u001b[01;34mSrc\u001b[0m/\n"
          ],
          "name": "stdout"
        }
      ]
    },
    {
      "cell_type": "code",
      "metadata": {
        "id": "nQLQHvxR90ae",
        "outputId": "814bcc81-79d1-4606-cf1f-ce4ce558e576",
        "colab": {
          "base_uri": "https://localhost:8080/"
        }
      },
      "source": [
        "cd Em-prende"
      ],
      "execution_count": 35,
      "outputs": [
        {
          "output_type": "stream",
          "text": [
            "/content/Em-prende\n"
          ],
          "name": "stdout"
        }
      ]
    },
    {
      "cell_type": "code",
      "metadata": {
        "id": "zJf-8_IE_CUz",
        "outputId": "a6cbfb55-0d82-40c6-d7b6-c144039bcf7c",
        "colab": {
          "base_uri": "https://localhost:8080/"
        }
      },
      "source": [
        "cd utils"
      ],
      "execution_count": 36,
      "outputs": [
        {
          "output_type": "stream",
          "text": [
            "/content/Em-prende/utils\n"
          ],
          "name": "stdout"
        }
      ]
    },
    {
      "cell_type": "code",
      "metadata": {
        "id": "8Aaw2xft_FWK"
      },
      "source": [
        "cp ClassificationModelBuilder.py ../../Src/utils/"
      ],
      "execution_count": 37,
      "outputs": []
    },
    {
      "cell_type": "code",
      "metadata": {
        "id": "MRoOMTet_Q37",
        "outputId": "dda77f52-ed8e-4a45-98ac-50e5ab7363a5",
        "colab": {
          "base_uri": "https://localhost:8080/"
        }
      },
      "source": [
        "cd /content/"
      ],
      "execution_count": 40,
      "outputs": [
        {
          "output_type": "stream",
          "text": [
            "/content\n"
          ],
          "name": "stdout"
        }
      ]
    },
    {
      "cell_type": "code",
      "metadata": {
        "id": "PEYbyOLxsun_",
        "outputId": "b210ddd3-6ff1-46e0-b44a-08437b398ae7",
        "colab": {
          "base_uri": "https://localhost:8080/"
        }
      },
      "source": [
        "!source /content/em-prende-ml-solution/bin/activate; cd Src; cd utils; python ClassificationModelBuilder.py"
      ],
      "execution_count": 41,
      "outputs": [
        {
          "output_type": "stream",
          "text": [
            "Traceback (most recent call last):\n",
            "  File \"ClassificationModelBuilder.py\", line 14, in <module>\n",
            "    from .DataPreparation import *\n",
            "ImportError: attempted relative import with no known parent package\n"
          ],
          "name": "stdout"
        }
      ]
    },
    {
      "cell_type": "markdown",
      "metadata": {
        "id": "tVtPnygS1aEj"
      },
      "source": [
        "The following code lines allow you to import a big file (the dataset) from Google Drive"
      ]
    },
    {
      "cell_type": "code",
      "metadata": {
        "colab": {
          "base_uri": "https://localhost:8080/"
        },
        "id": "ag9SMPZe1ZQ-",
        "outputId": "30079156-906e-4c4d-d728-e3fb4023f17d"
      },
      "source": [
        "!pip install PyDrive"
      ],
      "execution_count": 16,
      "outputs": [
        {
          "output_type": "stream",
          "text": [
            "Requirement already satisfied: PyDrive in /usr/local/lib/python3.7/dist-packages (1.3.1)\n",
            "Requirement already satisfied: oauth2client>=4.0.0 in /usr/local/lib/python3.7/dist-packages (from PyDrive) (4.1.3)\n",
            "Requirement already satisfied: google-api-python-client>=1.2 in /usr/local/lib/python3.7/dist-packages (from PyDrive) (1.12.8)\n",
            "Requirement already satisfied: PyYAML>=3.0 in /usr/local/lib/python3.7/dist-packages (from PyDrive) (3.13)\n",
            "Requirement already satisfied: google-auth-httplib2>=0.0.3 in /usr/local/lib/python3.7/dist-packages (from google-api-python-client>=1.2->PyDrive) (0.0.4)\n",
            "Requirement already satisfied: google-auth>=1.16.0 in /usr/local/lib/python3.7/dist-packages (from google-api-python-client>=1.2->PyDrive) (1.32.1)\n",
            "Requirement already satisfied: httplib2<1dev,>=0.15.0 in /usr/local/lib/python3.7/dist-packages (from google-api-python-client>=1.2->PyDrive) (0.17.4)\n",
            "Requirement already satisfied: uritemplate<4dev,>=3.0.0 in /usr/local/lib/python3.7/dist-packages (from google-api-python-client>=1.2->PyDrive) (3.0.1)\n",
            "Requirement already satisfied: google-api-core<2dev,>=1.21.0 in /usr/local/lib/python3.7/dist-packages (from google-api-python-client>=1.2->PyDrive) (1.26.3)\n",
            "Requirement already satisfied: six<2dev,>=1.13.0 in /usr/local/lib/python3.7/dist-packages (from google-api-python-client>=1.2->PyDrive) (1.15.0)\n",
            "Requirement already satisfied: packaging>=14.3 in /usr/local/lib/python3.7/dist-packages (from google-api-core<2dev,>=1.21.0->google-api-python-client>=1.2->PyDrive) (21.0)\n",
            "Requirement already satisfied: googleapis-common-protos<2.0dev,>=1.6.0 in /usr/local/lib/python3.7/dist-packages (from google-api-core<2dev,>=1.21.0->google-api-python-client>=1.2->PyDrive) (1.53.0)\n",
            "Requirement already satisfied: requests<3.0.0dev,>=2.18.0 in /usr/local/lib/python3.7/dist-packages (from google-api-core<2dev,>=1.21.0->google-api-python-client>=1.2->PyDrive) (2.23.0)\n",
            "Requirement already satisfied: protobuf>=3.12.0 in /usr/local/lib/python3.7/dist-packages (from google-api-core<2dev,>=1.21.0->google-api-python-client>=1.2->PyDrive) (3.17.3)\n",
            "Requirement already satisfied: setuptools>=40.3.0 in /usr/local/lib/python3.7/dist-packages (from google-api-core<2dev,>=1.21.0->google-api-python-client>=1.2->PyDrive) (57.2.0)\n",
            "Requirement already satisfied: pytz in /usr/local/lib/python3.7/dist-packages (from google-api-core<2dev,>=1.21.0->google-api-python-client>=1.2->PyDrive) (2018.9)\n",
            "Requirement already satisfied: rsa<5,>=3.1.4 in /usr/local/lib/python3.7/dist-packages (from google-auth>=1.16.0->google-api-python-client>=1.2->PyDrive) (4.7.2)\n",
            "Requirement already satisfied: cachetools<5.0,>=2.0.0 in /usr/local/lib/python3.7/dist-packages (from google-auth>=1.16.0->google-api-python-client>=1.2->PyDrive) (4.2.2)\n",
            "Requirement already satisfied: pyasn1-modules>=0.2.1 in /usr/local/lib/python3.7/dist-packages (from google-auth>=1.16.0->google-api-python-client>=1.2->PyDrive) (0.2.8)\n",
            "Requirement already satisfied: pyasn1>=0.1.7 in /usr/local/lib/python3.7/dist-packages (from oauth2client>=4.0.0->PyDrive) (0.4.8)\n",
            "Requirement already satisfied: pyparsing>=2.0.2 in /usr/local/lib/python3.7/dist-packages (from packaging>=14.3->google-api-core<2dev,>=1.21.0->google-api-python-client>=1.2->PyDrive) (2.4.7)\n",
            "Requirement already satisfied: urllib3!=1.25.0,!=1.25.1,<1.26,>=1.21.1 in /usr/local/lib/python3.7/dist-packages (from requests<3.0.0dev,>=2.18.0->google-api-core<2dev,>=1.21.0->google-api-python-client>=1.2->PyDrive) (1.24.3)\n",
            "Requirement already satisfied: idna<3,>=2.5 in /usr/local/lib/python3.7/dist-packages (from requests<3.0.0dev,>=2.18.0->google-api-core<2dev,>=1.21.0->google-api-python-client>=1.2->PyDrive) (2.10)\n",
            "Requirement already satisfied: chardet<4,>=3.0.2 in /usr/local/lib/python3.7/dist-packages (from requests<3.0.0dev,>=2.18.0->google-api-core<2dev,>=1.21.0->google-api-python-client>=1.2->PyDrive) (3.0.4)\n",
            "Requirement already satisfied: certifi>=2017.4.17 in /usr/local/lib/python3.7/dist-packages (from requests<3.0.0dev,>=2.18.0->google-api-core<2dev,>=1.21.0->google-api-python-client>=1.2->PyDrive) (2021.5.30)\n"
          ],
          "name": "stdout"
        }
      ]
    },
    {
      "cell_type": "markdown",
      "metadata": {
        "id": "BrfdmAAR2dJM"
      },
      "source": [
        ""
      ]
    },
    {
      "cell_type": "code",
      "metadata": {
        "id": "FD-FpM3y1i36"
      },
      "source": [
        "import os\n",
        "from pydrive.auth import GoogleAuth\n",
        "from pydrive.drive import GoogleDrive\n",
        "from google.colab import auth\n",
        "from oauth2client.client import GoogleCredentials"
      ],
      "execution_count": 42,
      "outputs": []
    },
    {
      "cell_type": "code",
      "metadata": {
        "id": "Q2oJmzNW1n7x"
      },
      "source": [
        "auth.authenticate_user()"
      ],
      "execution_count": 43,
      "outputs": []
    },
    {
      "cell_type": "code",
      "metadata": {
        "id": "eZa3ZFom1rZR"
      },
      "source": [
        "gauth = GoogleAuth()"
      ],
      "execution_count": 44,
      "outputs": []
    },
    {
      "cell_type": "code",
      "metadata": {
        "id": "gzdPShzg12xp"
      },
      "source": [
        "gauth.credentials = GoogleCredentials.get_application_default()"
      ],
      "execution_count": 45,
      "outputs": []
    },
    {
      "cell_type": "code",
      "metadata": {
        "id": "C5Gcqhba15sr"
      },
      "source": [
        "drive = GoogleDrive(gauth)"
      ],
      "execution_count": 46,
      "outputs": []
    },
    {
      "cell_type": "code",
      "metadata": {
        "id": "bRN4v_nC18Fz"
      },
      "source": [
        ""
      ],
      "execution_count": 46,
      "outputs": []
    },
    {
      "cell_type": "markdown",
      "metadata": {
        "id": "lNR_bnRy2Tvk"
      },
      "source": [
        "Step 4: Obtain your File’s ID\n",
        "\n",
        "Enable link sharing for the file you want to transfer. Copy the link. You may get a link such as this:"
      ]
    },
    {
      "cell_type": "code",
      "metadata": {
        "id": "MKhe6n9B3dvv"
      },
      "source": [
        "#download = drive.CreateFile({'id': '177wVVqtlb7ZMLe4TQLkVMqk8E1WDREED'})\n",
        "#download.GetContentFile('Set_22Jul_9AM_sin_missingvalues_todonormalizado11am_training.csv')"
      ],
      "execution_count": 47,
      "outputs": []
    },
    {
      "cell_type": "markdown",
      "metadata": {
        "id": "mv8BcXxY4U0H"
      },
      "source": [
        "Now move Set_22Jul_9AM_sin_missingvalues_todonormalizado11am_training to /Data"
      ]
    },
    {
      "cell_type": "markdown",
      "metadata": {
        "id": "27wMLz4V7EQC"
      },
      "source": [
        "##Data Preparation"
      ]
    },
    {
      "cell_type": "markdown",
      "metadata": {
        "id": "YlYSgE1RIjXb"
      },
      "source": [
        "Now we are going to download a preprocessed data set from GoogleDrive Now we are going to download a preprocessed data set from from https://drive.google.com/file/d/1o-OuRUBJfZKo8nyCJZz9N8jyTnwv2ZFU/view?usp=sharing\n"
      ]
    },
    {
      "cell_type": "code",
      "metadata": {
        "id": "fhzBpRouIKgT"
      },
      "source": [
        "download = drive.CreateFile({'id': '1o-OuRUBJfZKo8nyCJZz9N8jyTnwv2ZFU'})\n",
        "download.GetContentFile('trainingfull.csv')"
      ],
      "execution_count": 48,
      "outputs": []
    },
    {
      "cell_type": "code",
      "metadata": {
        "id": "L22YNu27I04n",
        "outputId": "58aeb4b4-bc51-4666-d4dd-70687bad3f40",
        "colab": {
          "base_uri": "https://localhost:8080/"
        }
      },
      "source": [
        "cd /content/"
      ],
      "execution_count": 49,
      "outputs": [
        {
          "output_type": "stream",
          "text": [
            "/content\n"
          ],
          "name": "stdout"
        }
      ]
    },
    {
      "cell_type": "code",
      "metadata": {
        "id": "NLDUaIuwI3xJ"
      },
      "source": [
        "mv /content/trainingfull.csv Data/"
      ],
      "execution_count": 51,
      "outputs": []
    },
    {
      "cell_type": "code",
      "metadata": {
        "id": "WShW1t-D_Pbi"
      },
      "source": [
        "!source /content/em-prende-ml-solution/bin/activate; cd Src; cd utils; python DataPreparation.py"
      ],
      "execution_count": 55,
      "outputs": []
    },
    {
      "cell_type": "markdown",
      "metadata": {
        "id": "t8EjGk_tAGnC"
      },
      "source": [
        "##Model Builder"
      ]
    },
    {
      "cell_type": "code",
      "metadata": {
        "id": "byoIVVUn4cnX"
      },
      "source": [
        "!source /content/em-prende-ml-solution/bin/activate; cd Src; cd utils; python ClassificationModelBuilder.py"
      ],
      "execution_count": 60,
      "outputs": []
    },
    {
      "cell_type": "markdown",
      "metadata": {
        "id": "VwiXnsGw4dBq"
      },
      "source": [
        ""
      ]
    }
  ]
}